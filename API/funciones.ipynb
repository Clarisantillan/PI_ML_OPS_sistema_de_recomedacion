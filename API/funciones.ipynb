{
 "cells": [
  {
   "cell_type": "code",
   "execution_count": null,
   "metadata": {},
   "outputs": [],
   "source": [
    "#Deben crear 6 funciones para los endpoints que se consumirán en la API, recuerden que deben tener un decorador por cada una (@app.get('/')).\n",
    "\n",
    "#def cantidad_filmaciones_mes( Mes) : Se ingresa un mes en idioma Español. Debe devolver la cantidad de películas que fueron estrenadas en el mes consultado en la totalidad del conjunto de datos.\n",
    "#                   Ejemplo de retorno: Xcantidad de peliculas fueron estrenadas en el mes deX\n",
    "\n",
    "#def cantidad_filmaciones_dia( Dia) : Se ingresa un día en idioma Español. Debe devolver la cantidad de películas que fueron estrenadas en el día consultado en la totalidad del conjunto de datos.\n",
    "#                    Ejemplo de retorno: Xcantidad de películas fueron estrenadas en los díasX\n",
    "\n",
    "#def score_titulo( titulo_de_la_filmación) : Se ingresa el título de una filmación esperando como respuesta el título, el año de estreno y el score.\n",
    "#                    Ejemplo de retorno: La película Xfue estrenada en el año Xcon una puntuación/popularidad deX\n",
    "\n",
    "#def votos_titulo( titulo_de_la_filmación) : Se ingresa el título de una filmación esperando como respuesta el título, la cantidad de votos y el valor promedio de las votaciones. La misma variable deberá contar con al menos 2000 valoraciones, caso contrario, debemos contar con un mensaje avisando que no cumple esta condición y que por ende, no se devuelve ningun valor.\n",
    "#                    Ejemplo de retorno: La película Xfue estrenada en el año X. La misma cuenta con un total de Xvaloraciones, con un promedio deX\n",
    "\n",
    "#def get_actor( nombre_actor) : Se ingresa el nombre de un actor que se encuentra dentro de un dataset debiendo devolver el éxito del mismo medido a través del retorno. Además, la cantidad de películas que en las que ha realizado y el promedio de retorno. La definición no deberá considerar directores.\n",
    "#                   Ejemplo de retorno: El actor Xha recibido de Xcantidad de filmaciones, el mismo ha obtenido un retorno de Xcon un promedio de Xpor filmación\n",
    "\n",
    "#def get_director( nombre_director) : Se ingresa el nombre de un director que se encuentra dentro de un dataset debiendo devolver el éxito del mismo medido a través del retorno. Además, deberá devolver el nombre de cada película con la fecha de lanzamiento, retorno individual, costo y ganancia de la misma."
   ]
  }
 ],
 "metadata": {
  "language_info": {
   "name": "python"
  },
  "orig_nbformat": 4
 },
 "nbformat": 4,
 "nbformat_minor": 2
}
