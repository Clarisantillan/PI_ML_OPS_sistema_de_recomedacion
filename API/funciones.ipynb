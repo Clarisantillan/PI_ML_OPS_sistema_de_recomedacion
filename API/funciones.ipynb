{
 "cells": [
  {
   "cell_type": "code",
   "execution_count": 11,
   "metadata": {},
   "outputs": [],
   "source": [
    "import pandas as pd\n",
    "import numpy as np"
   ]
  },
  {
   "cell_type": "code",
   "execution_count": 70,
   "metadata": {},
   "outputs": [
    {
     "name": "stdout",
     "output_type": "stream",
     "text": [
      "<class 'pandas.core.frame.DataFrame'>\n",
      "RangeIndex: 45291 entries, 0 to 45290\n",
      "Data columns (total 23 columns):\n",
      " #   Column                Non-Null Count  Dtype  \n",
      "---  ------                --------------  -----  \n",
      " 0   Unnamed: 0            45291 non-null  int64  \n",
      " 1   budget                45291 non-null  object \n",
      " 2   genres                45291 non-null  object \n",
      " 3   id                    45291 non-null  object \n",
      " 4   original_language     45280 non-null  object \n",
      " 5   overview              44352 non-null  object \n",
      " 6   popularity            45289 non-null  object \n",
      " 7   production_companies  33463 non-null  object \n",
      " 8   production_countries  39092 non-null  object \n",
      " 9   revenue               45291 non-null  float64\n",
      " 10  runtime               45042 non-null  float64\n",
      " 11  spoken_languages      41311 non-null  object \n",
      " 12  status                45209 non-null  object \n",
      " 13  tagline               20378 non-null  object \n",
      " 14  title                 45288 non-null  object \n",
      " 15  vote_average          45288 non-null  float64\n",
      " 16  vote_count            45288 non-null  float64\n",
      " 17  collection            3163 non-null   object \n",
      " 18  release_date          45291 non-null  object \n",
      " 19  release_year          45291 non-null  int64  \n",
      " 20  return                45291 non-null  float64\n",
      " 21  release_month         45291 non-null  int64  \n",
      " 22  release_day           45291 non-null  int64  \n",
      "dtypes: float64(5), int64(4), object(14)\n",
      "memory usage: 7.9+ MB\n"
     ]
    },
    {
     "name": "stderr",
     "output_type": "stream",
     "text": [
      "C:\\Users\\clari\\AppData\\Local\\Temp\\ipykernel_15512\\984795586.py:1: DtypeWarning: Columns (6) have mixed types. Specify dtype option on import or set low_memory=False.\n",
      "  df_movies= pd.read_csv('../ETL/movies_limpio.csv')\n"
     ]
    }
   ],
   "source": [
    "df_movies= pd.read_csv('../ETL/movies_limpio.csv')\n",
    "df_movies.info()"
   ]
  },
  {
   "cell_type": "code",
   "execution_count": 37,
   "metadata": {},
   "outputs": [
    {
     "name": "stdout",
     "output_type": "stream",
     "text": [
      "3145 película(s) fueron estrenadas en el mes de Junio.\n"
     ]
    }
   ],
   "source": [
    "def cantidad_filmaciones_mes(mes):\n",
    "    meses = {\n",
    "        \"enero\": 1,\n",
    "        \"febrero\": 2,\n",
    "        \"marzo\": 3,\n",
    "        \"abril\": 4,\n",
    "        \"mayo\": 5,\n",
    "        \"junio\": 6,\n",
    "        \"julio\": 7,\n",
    "        \"agosto\": 8,\n",
    "        \"septiembre\": 9,\n",
    "        \"octubre\": 10,\n",
    "        \"noviembre\": 11,\n",
    "        \"diciembre\": 12\n",
    "    }\n",
    "\n",
    "    if mes.lower() in meses:\n",
    "        numero_mes = meses[mes.lower()]\n",
    "        cantidad_peliculas = obtener_cantidad_peliculas_mes(numero_mes)\n",
    "        return f\"{cantidad_peliculas} película(s) fueron estrenadas en el mes de {mes.capitalize()}.\"\n",
    "    else:\n",
    "        return \"El mes ingresado no es válido.\"\n",
    "\n",
    "# Función auxiliar para obtener la cantidad de películas estrenadas en x mes\n",
    "def obtener_cantidad_peliculas_mes(numero_mes):\n",
    "    cantidad_peliculas = len(df_movies[df_movies['release_month'] == numero_mes])\n",
    "    return cantidad_peliculas\n",
    "\n",
    "\n",
    "#prueba\n",
    "mes_consultado = \"Junio\"\n",
    "resultado = cantidad_filmaciones_mes(mes_consultado)\n",
    "print(resultado)\n"
   ]
  },
  {
   "attachments": {},
   "cell_type": "markdown",
   "metadata": {},
   "source": [
    "# funcion dia"
   ]
  },
  {
   "cell_type": "code",
   "execution_count": 124,
   "metadata": {},
   "outputs": [
    {
     "data": {
      "text/plain": [
       "'4630 película(s) fueron estrenadas en los días Martes.'"
      ]
     },
     "execution_count": 124,
     "metadata": {},
     "output_type": "execute_result"
    }
   ],
   "source": [
    "def cantidad_filmaciones_dia(dia:str):\n",
    "    dia=dia.lower()\n",
    "    dias=['lunes','martes','miercoles','jueves','viernes','sabado','domingo']\n",
    "    \n",
    "    if dia == \"lunes\" or dia == \"martes\" or dia == \"miércoles\" or dia == \"jueves\" or dia == \"viernes\" or dia == \"sábado\" or dia == \"domingo\":\n",
    "        aux_dia = dias.index(dia)\n",
    "        df_movies[\"release_date\"] = pd.to_datetime(df_movies[\"release_date\"])\n",
    "        df_movies[\"release_day\"] = df_movies[\"release_date\"].dt.weekday\n",
    "        resultado = df_movies.loc[df_movies[\"release_day\"] == aux_dia].shape[0]\n",
    "        return f\"{resultado} película(s) fueron estrenadas en los días {dia.capitalize()}.\"  \n",
    "    \n",
    "    else:\n",
    "        resultado = 'El día ingresado no es válido'\n",
    "        return resultado  \n",
    "   \n",
    "   \n",
    "cantidad_filmaciones_dia('martes')"
   ]
  },
  {
   "attachments": {},
   "cell_type": "markdown",
   "metadata": {},
   "source": [
    "# Score"
   ]
  },
  {
   "cell_type": "code",
   "execution_count": 209,
   "metadata": {},
   "outputs": [],
   "source": [
    "def score_titulo(titulo_de_la_filmacion):\n",
    "    titulos = df_movies['title']\n",
    "    \n",
    "    for titulo in titulos:\n",
    "        if titulo == titulo_de_la_filmacion:\n",
    "            fecha_series = df_movies[df_movies['title'] == titulo_de_la_filmacion]['release_year']\n",
    "            popularidad_series = df_movies[df_movies['title'] == titulo_de_la_filmacion]['popularity']\n",
    "            \n",
    "            if not fecha_series.empty and not popularidad_series.empty:\n",
    "                fecha = fecha_series.astype(str).iloc[0]\n",
    "                popularidad = popularidad_series.astype(str).iloc[0]\n",
    "                return f\"La película {titulo.capitalize()} fue estrenada en el año {fecha} con una puntuación/popularidad de {popularidad}.\"\n",
    "    \n",
    "    return 'No se ha encontrado el título de la filmación'\n"
   ]
  },
  {
   "cell_type": "code",
   "execution_count": 210,
   "metadata": {},
   "outputs": [
    {
     "name": "stdout",
     "output_type": "stream",
     "text": [
      "La película Toy story fue estrenada en el año 1995 con una puntuación/popularidad de 21.946943.\n",
      "La película A death in the gunj fue estrenada en el año 1991 con una puntuación/popularidad de 0.516993.\n",
      "La película Waiting to exhale fue estrenada en el año 1995 con una puntuación/popularidad de 3.859495.\n"
     ]
    }
   ],
   "source": [
    "print(score_titulo(\"Toy Story\"))\n",
    "print(score_titulo(\"A Death in the Gunj\"))\n",
    "print(score_titulo(\"Waiting to Exhale\"))"
   ]
  },
  {
   "cell_type": "code",
   "execution_count": 207,
   "metadata": {},
   "outputs": [
    {
     "data": {
      "text/plain": [
       "0                            Toy Story\n",
       "1                              Jumanji\n",
       "2                     Grumpier Old Men\n",
       "3                    Waiting to Exhale\n",
       "4          Father of the Bride Part II\n",
       "                     ...              \n",
       "45286              A Death in the Gunj\n",
       "45287                        Phillauri\n",
       "45288                     Polar Flight\n",
       "45289    Simbad e il califfo di Bagdad\n",
       "45290                        Black Sun\n",
       "Name: title, Length: 45291, dtype: object"
      ]
     },
     "execution_count": 207,
     "metadata": {},
     "output_type": "execute_result"
    }
   ],
   "source": [
    "df_movies['title']"
   ]
  },
  {
   "cell_type": "code",
   "execution_count": 184,
   "metadata": {},
   "outputs": [
    {
     "name": "stdout",
     "output_type": "stream",
     "text": [
      "Toy Story 1995-10-30\n"
     ]
    }
   ],
   "source": [
    "titulos= df_movies['title']\n",
    "buscado='Toy Story'\n",
    "for titulo in titulos:\n",
    "    buscado='Toy Story'\n",
    "    if titulo == buscado:\n",
    "        fecha= df_movies[df_movies['title']== buscado]['release_date'].astype(str)[0]\n",
    "        print(titulo, fecha)\n",
    "        break\n",
    "    else:\n",
    "        print('no esta la pelicula')\n",
    "        \n"
   ]
  },
  {
   "cell_type": "code",
   "execution_count": 183,
   "metadata": {},
   "outputs": [
    {
     "data": {
      "text/plain": [
       "'1995-10-30'"
      ]
     },
     "execution_count": 183,
     "metadata": {},
     "output_type": "execute_result"
    }
   ],
   "source": [
    "fecha= df_movies[df_movies['title']== buscado]['release_date'].astype(str)[0]\n",
    "fecha\n"
   ]
  },
  {
   "cell_type": "code",
   "execution_count": 188,
   "metadata": {},
   "outputs": [
    {
     "data": {
      "text/plain": [
       "'21.946943'"
      ]
     },
     "execution_count": 188,
     "metadata": {},
     "output_type": "execute_result"
    }
   ],
   "source": [
    "popularidad= df_movies[df_movies['title']== buscado]['popularity'].astype(str)[0]\n",
    "popularidad"
   ]
  },
  {
   "cell_type": "code",
   "execution_count": null,
   "metadata": {},
   "outputs": [],
   "source": [
    "#Deben crear 6 funciones para los endpoints que se consumirán en la API, recuerden que deben tener un decorador por cada una (@app.get('/')).\n",
    "\n",
    "#def cantidad_filmaciones_mes( Mes) : Se ingresa un mes en idioma Español. Debe devolver la cantidad de películas que fueron estrenadas en el mes consultado en la totalidad del conjunto de datos.\n",
    "#                   Ejemplo de retorno: Xcantidad de peliculas fueron estrenadas en el mes deX\n",
    "\n",
    "#def cantidad_filmaciones_dia( Dia) : Se ingresa un día en idioma Español. Debe devolver la cantidad de películas que fueron estrenadas en el día consultado en la totalidad del conjunto de datos.\n",
    "#                    Ejemplo de retorno: Xcantidad de películas fueron estrenadas en los díasX\n",
    "\n",
    "#def score_titulo( titulo_de_la_filmación) : Se ingresa el título de una filmación esperando como respuesta el título, el año de estreno y el score.\n",
    "#                    Ejemplo de retorno: La película Xfue estrenada en el año Xcon una puntuación/popularidad deX\n",
    "\n",
    "#def votos_titulo( titulo_de_la_filmación) : Se ingresa el título de una filmación esperando como respuesta el título, la cantidad de votos y el valor promedio de las votaciones. La misma variable deberá contar con al menos 2000 valoraciones, caso contrario, debemos contar con un mensaje avisando que no cumple esta condición y que por ende, no se devuelve ningun valor.\n",
    "#                    Ejemplo de retorno: La película Xfue estrenada en el año X. La misma cuenta con un total de Xvaloraciones, con un promedio deX\n",
    "\n",
    "#def get_actor( nombre_actor) : Se ingresa el nombre de un actor que se encuentra dentro de un dataset debiendo devolver el éxito del mismo medido a través del retorno. Además, la cantidad de películas que en las que ha realizado y el promedio de retorno. La definición no deberá considerar directores.\n",
    "#                   Ejemplo de retorno: El actor Xha recibido de Xcantidad de filmaciones, el mismo ha obtenido un retorno de Xcon un promedio de Xpor filmación\n",
    "\n",
    "#def get_director( nombre_director) : Se ingresa el nombre de un director que se encuentra dentro de un dataset debiendo devolver el éxito del mismo medido a través del retorno. Además, deberá devolver el nombre de cada película con la fecha de lanzamiento, retorno individual, costo y ganancia de la misma."
   ]
  }
 ],
 "metadata": {
  "kernelspec": {
   "display_name": "PI",
   "language": "python",
   "name": "python3"
  },
  "language_info": {
   "codemirror_mode": {
    "name": "ipython",
    "version": 3
   },
   "file_extension": ".py",
   "mimetype": "text/x-python",
   "name": "python",
   "nbconvert_exporter": "python",
   "pygments_lexer": "ipython3",
   "version": "3.11.0"
  },
  "orig_nbformat": 4
 },
 "nbformat": 4,
 "nbformat_minor": 2
}
