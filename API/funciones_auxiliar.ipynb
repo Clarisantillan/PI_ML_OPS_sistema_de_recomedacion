{
 "cells": [
  {
   "cell_type": "code",
   "execution_count": 1,
   "metadata": {},
   "outputs": [],
   "source": [
    "import pandas as pd\n",
    "import numpy as np"
   ]
  },
  {
   "cell_type": "code",
   "execution_count": 30,
   "metadata": {},
   "outputs": [
    {
     "name": "stderr",
     "output_type": "stream",
     "text": [
      "C:\\Users\\clari\\AppData\\Local\\Temp\\ipykernel_15740\\2785165809.py:1: DtypeWarning: Columns (6) have mixed types. Specify dtype option on import or set low_memory=False.\n",
      "  df_movies= pd.read_csv('../ETL/movies_limpio.csv')\n"
     ]
    }
   ],
   "source": [
    "df_movies= pd.read_csv('../ETL/movies_limpio.csv')\n",
    "df_cast= pd.read_csv('../ETL/cast.csv')\n",
    "df_crew= pd.read_csv('../ETL/crew.csv')"
   ]
  },
  {
   "cell_type": "code",
   "execution_count": 37,
   "metadata": {},
   "outputs": [
    {
     "name": "stdout",
     "output_type": "stream",
     "text": [
      "3145 película(s) fueron estrenadas en el mes de Junio.\n"
     ]
    }
   ],
   "source": [
    "def cantidad_filmaciones_mes(mes):\n",
    "    meses = {\n",
    "        \"enero\": 1,\n",
    "        \"febrero\": 2,\n",
    "        \"marzo\": 3,\n",
    "        \"abril\": 4,\n",
    "        \"mayo\": 5,\n",
    "        \"junio\": 6,\n",
    "        \"julio\": 7,\n",
    "        \"agosto\": 8,\n",
    "        \"septiembre\": 9,\n",
    "        \"octubre\": 10,\n",
    "        \"noviembre\": 11,\n",
    "        \"diciembre\": 12\n",
    "    }\n",
    "\n",
    "    if mes.lower() in meses:\n",
    "        numero_mes = meses[mes.lower()]\n",
    "        cantidad_peliculas = obtener_cantidad_peliculas_mes(numero_mes)\n",
    "        return f\"{cantidad_peliculas} película(s) fueron estrenadas en el mes de {mes.capitalize()}.\"\n",
    "    else:\n",
    "        return \"El mes ingresado no es válido.\"\n",
    "\n",
    "# Función auxiliar para obtener la cantidad de películas estrenadas en x mes\n",
    "def obtener_cantidad_peliculas_mes(numero_mes):\n",
    "    cantidad_peliculas = len(df_movies[df_movies['release_month'] == numero_mes])\n",
    "    return cantidad_peliculas\n",
    "\n",
    "\n",
    "#prueba\n",
    "mes_consultado = \"Junio\"\n",
    "resultado = cantidad_filmaciones_mes(mes_consultado)\n",
    "print(resultado)\n"
   ]
  },
  {
   "attachments": {},
   "cell_type": "markdown",
   "metadata": {},
   "source": [
    "# funcion dia"
   ]
  },
  {
   "cell_type": "code",
   "execution_count": 124,
   "metadata": {},
   "outputs": [
    {
     "data": {
      "text/plain": [
       "'4630 película(s) fueron estrenadas en los días Martes.'"
      ]
     },
     "execution_count": 124,
     "metadata": {},
     "output_type": "execute_result"
    }
   ],
   "source": [
    "def cantidad_filmaciones_dia(dia:str):\n",
    "    dia=dia.lower()\n",
    "    dias=['lunes','martes','miercoles','jueves','viernes','sabado','domingo']\n",
    "    \n",
    "    if dia == \"lunes\" or dia == \"martes\" or dia == \"miércoles\" or dia == \"jueves\" or dia == \"viernes\" or dia == \"sábado\" or dia == \"domingo\":\n",
    "        aux_dia = dias.index(dia)\n",
    "        df_movies[\"release_date\"] = pd.to_datetime(df_movies[\"release_date\"])\n",
    "        df_movies[\"release_day\"] = df_movies[\"release_date\"].dt.weekday\n",
    "        resultado = df_movies.loc[df_movies[\"release_day\"] == aux_dia].shape[0]\n",
    "        return f\"{resultado} película(s) fueron estrenadas en los días {dia.capitalize()}.\"  \n",
    "    \n",
    "    else:\n",
    "        resultado = 'El día ingresado no es válido'\n",
    "        return resultado  \n",
    "   \n",
    "   \n",
    "cantidad_filmaciones_dia('martes')"
   ]
  },
  {
   "attachments": {},
   "cell_type": "markdown",
   "metadata": {},
   "source": [
    "# Score"
   ]
  },
  {
   "cell_type": "code",
   "execution_count": 209,
   "metadata": {},
   "outputs": [],
   "source": [
    "def score_titulo(titulo_de_la_filmacion):\n",
    "    titulos = df_movies['title']\n",
    "    \n",
    "    for titulo in titulos:\n",
    "        if titulo == titulo_de_la_filmacion:\n",
    "            fecha_series = df_movies[df_movies['title'] == titulo_de_la_filmacion]['release_year']\n",
    "            popularidad_series = df_movies[df_movies['title'] == titulo_de_la_filmacion]['popularity']\n",
    "            \n",
    "            if not fecha_series.empty and not popularidad_series.empty:\n",
    "                fecha = fecha_series.astype(str).iloc[0]\n",
    "                popularidad = popularidad_series.astype(str).iloc[0]\n",
    "                return f\"La película {titulo.capitalize()} fue estrenada en el año {fecha} con una puntuación/popularidad de {popularidad}.\"\n",
    "    \n",
    "    return 'No se ha encontrado el título de la filmación'\n"
   ]
  },
  {
   "cell_type": "code",
   "execution_count": 210,
   "metadata": {},
   "outputs": [
    {
     "name": "stdout",
     "output_type": "stream",
     "text": [
      "La película Toy story fue estrenada en el año 1995 con una puntuación/popularidad de 21.946943.\n",
      "La película A death in the gunj fue estrenada en el año 1991 con una puntuación/popularidad de 0.516993.\n",
      "La película Waiting to exhale fue estrenada en el año 1995 con una puntuación/popularidad de 3.859495.\n"
     ]
    }
   ],
   "source": [
    "print(score_titulo(\"Toy Story\"))\n",
    "print(score_titulo(\"A Death in the Gunj\"))\n",
    "print(score_titulo(\"Waiting to Exhale\"))"
   ]
  },
  {
   "cell_type": "code",
   "execution_count": 207,
   "metadata": {},
   "outputs": [
    {
     "data": {
      "text/plain": [
       "0                            Toy Story\n",
       "1                              Jumanji\n",
       "2                     Grumpier Old Men\n",
       "3                    Waiting to Exhale\n",
       "4          Father of the Bride Part II\n",
       "                     ...              \n",
       "45286              A Death in the Gunj\n",
       "45287                        Phillauri\n",
       "45288                     Polar Flight\n",
       "45289    Simbad e il califfo di Bagdad\n",
       "45290                        Black Sun\n",
       "Name: title, Length: 45291, dtype: object"
      ]
     },
     "execution_count": 207,
     "metadata": {},
     "output_type": "execute_result"
    }
   ],
   "source": [
    "df_movies['title']"
   ]
  },
  {
   "cell_type": "code",
   "execution_count": 184,
   "metadata": {},
   "outputs": [
    {
     "name": "stdout",
     "output_type": "stream",
     "text": [
      "Toy Story 1995-10-30\n"
     ]
    }
   ],
   "source": [
    "titulos= df_movies['title']\n",
    "buscado='Toy Story'\n",
    "for titulo in titulos:\n",
    "    buscado='Toy Story'\n",
    "    if titulo == buscado:\n",
    "        fecha= df_movies[df_movies['title']== buscado]['release_date'].astype(str)[0]\n",
    "        print(titulo, fecha)\n",
    "        break\n",
    "    else:\n",
    "        print('no esta la pelicula')\n",
    "        \n"
   ]
  },
  {
   "cell_type": "code",
   "execution_count": 183,
   "metadata": {},
   "outputs": [
    {
     "data": {
      "text/plain": [
       "'1995-10-30'"
      ]
     },
     "execution_count": 183,
     "metadata": {},
     "output_type": "execute_result"
    }
   ],
   "source": [
    "fecha= df_movies[df_movies['title']== buscado]['release_date'].astype(str)[0]\n",
    "fecha\n"
   ]
  },
  {
   "cell_type": "code",
   "execution_count": 188,
   "metadata": {},
   "outputs": [
    {
     "data": {
      "text/plain": [
       "'21.946943'"
      ]
     },
     "execution_count": 188,
     "metadata": {},
     "output_type": "execute_result"
    }
   ],
   "source": [
    "popularidad= df_movies[df_movies['title']== buscado]['popularity'].astype(str)[0]\n",
    "popularidad"
   ]
  },
  {
   "attachments": {},
   "cell_type": "markdown",
   "metadata": {},
   "source": [
    "# Votos "
   ]
  },
  {
   "cell_type": "code",
   "execution_count": 26,
   "metadata": {},
   "outputs": [],
   "source": [
    "def votos_titulo(titulo_de_la_filmacion) : \n",
    "    titulos = df_movies['title']\n",
    "    \n",
    "    for titulo in titulos:\n",
    "        if titulo == titulo_de_la_filmacion:\n",
    "            fecha_series = df_movies[df_movies['title'] == titulo_de_la_filmacion]['release_year']\n",
    "            n_votos_series =  df_movies[df_movies['title'] == titulo_de_la_filmacion]['vote_count'].astype(int)\n",
    "            promedio_series = df_movies[df_movies['title'] == titulo_de_la_filmacion]['vote_average']\n",
    "            \n",
    "            if not n_votos_series.empty and not fecha_series.empty and not promedio_series.empty:\n",
    "                fecha = fecha_series.astype(str).iloc[0]\n",
    "                n_votos = int(n_votos_series.astype(str).iloc[0])\n",
    "                promedio= promedio_series.astype(str).iloc[0]\n",
    "                \n",
    "                if n_votos >= 2000:\n",
    "                 return f\"La película {titulo.capitalize()} fue estrenada en el año {fecha}. La misma cuenta con un total de {n_votos} valoraciones, con un promedio de {promedio}.\"\n",
    "    \n",
    "    return 'La filmacion no cuenta con suficientes votos para obtener la informacion solicitada.'\n",
    "\n",
    "            "
   ]
  },
  {
   "cell_type": "code",
   "execution_count": 30,
   "metadata": {},
   "outputs": [
    {
     "name": "stdout",
     "output_type": "stream",
     "text": [
      "La película Toy story fue estrenada en el año 1995. La misma cuenta con un total de 5415 valoraciones, con un promedio de 7.7.\n",
      "La filmacion no cuenta con suficientes votos para obtener la informacion solicitada.\n"
     ]
    }
   ],
   "source": [
    "print(votos_titulo('Toy Story'))\n",
    "print(votos_titulo('Grumpier Old Men'))"
   ]
  },
  {
   "cell_type": "code",
   "execution_count": 17,
   "metadata": {},
   "outputs": [],
   "source": [
    "titulo_de_la_filmacion= \"Toy Story\""
   ]
  },
  {
   "cell_type": "code",
   "execution_count": 14,
   "metadata": {},
   "outputs": [
    {
     "data": {
      "text/plain": [
       "0    5415\n",
       "Name: vote_count, dtype: int32"
      ]
     },
     "execution_count": 14,
     "metadata": {},
     "output_type": "execute_result"
    }
   ],
   "source": [
    "n_votos =  df_movies[df_movies['title'] == titulo_de_la_filmacion]['vote_count'].astype(int)\n",
    "n_votos"
   ]
  },
  {
   "attachments": {},
   "cell_type": "markdown",
   "metadata": {},
   "source": [
    "# actor"
   ]
  },
  {
   "cell_type": "code",
   "execution_count": 32,
   "metadata": {},
   "outputs": [],
   "source": [
    "from pandas.core.reshape.merge import merge\n",
    "#me da un error en el tipo de datos, por lo que convertire la columna id a numerico\n",
    "df_movies['id'] = pd.to_numeric(df_movies['id'], errors='coerce')# los que no son numericos los paso a nan\n",
    "df_movies = df_movies.dropna(subset=['id'])#aqui elimino los nan\n",
    "df_movies['id'] = df_movies['id'].astype(int)#convierto a entero\n",
    "\n"
   ]
  },
  {
   "cell_type": "code",
   "execution_count": 33,
   "metadata": {},
   "outputs": [
    {
     "data": {
      "text/html": [
       "<div>\n",
       "<style scoped>\n",
       "    .dataframe tbody tr th:only-of-type {\n",
       "        vertical-align: middle;\n",
       "    }\n",
       "\n",
       "    .dataframe tbody tr th {\n",
       "        vertical-align: top;\n",
       "    }\n",
       "\n",
       "    .dataframe thead th {\n",
       "        text-align: right;\n",
       "    }\n",
       "</style>\n",
       "<table border=\"1\" class=\"dataframe\">\n",
       "  <thead>\n",
       "    <tr style=\"text-align: right;\">\n",
       "      <th></th>\n",
       "      <th>Unnamed: 0</th>\n",
       "      <th>cast_id</th>\n",
       "      <th>character</th>\n",
       "      <th>credit_id</th>\n",
       "      <th>gender</th>\n",
       "      <th>id</th>\n",
       "      <th>name</th>\n",
       "      <th>order</th>\n",
       "      <th>profile_path</th>\n",
       "      <th>title</th>\n",
       "      <th>return</th>\n",
       "    </tr>\n",
       "  </thead>\n",
       "  <tbody>\n",
       "    <tr>\n",
       "      <th>0</th>\n",
       "      <td>0</td>\n",
       "      <td>14</td>\n",
       "      <td>Woody (voice)</td>\n",
       "      <td>52fe4284c3a36847f8024f95</td>\n",
       "      <td>2</td>\n",
       "      <td>862</td>\n",
       "      <td>Tom Hanks</td>\n",
       "      <td>0</td>\n",
       "      <td>/pQFoyx7rp09CJTAb932F2g8Nlho.jpg</td>\n",
       "      <td>Toy Story</td>\n",
       "      <td>12.451801</td>\n",
       "    </tr>\n",
       "    <tr>\n",
       "      <th>1</th>\n",
       "      <td>1</td>\n",
       "      <td>15</td>\n",
       "      <td>Buzz Lightyear (voice)</td>\n",
       "      <td>52fe4284c3a36847f8024f99</td>\n",
       "      <td>2</td>\n",
       "      <td>862</td>\n",
       "      <td>Tim Allen</td>\n",
       "      <td>1</td>\n",
       "      <td>/uX2xVf6pMmPepxnvFWyBtjexzgY.jpg</td>\n",
       "      <td>Toy Story</td>\n",
       "      <td>12.451801</td>\n",
       "    </tr>\n",
       "    <tr>\n",
       "      <th>2</th>\n",
       "      <td>2</td>\n",
       "      <td>16</td>\n",
       "      <td>Mr. Potato Head (voice)</td>\n",
       "      <td>52fe4284c3a36847f8024f9d</td>\n",
       "      <td>2</td>\n",
       "      <td>862</td>\n",
       "      <td>Don Rickles</td>\n",
       "      <td>2</td>\n",
       "      <td>/h5BcaDMPRVLHLDzbQavec4xfSdt.jpg</td>\n",
       "      <td>Toy Story</td>\n",
       "      <td>12.451801</td>\n",
       "    </tr>\n",
       "    <tr>\n",
       "      <th>3</th>\n",
       "      <td>3</td>\n",
       "      <td>17</td>\n",
       "      <td>Slinky Dog (voice)</td>\n",
       "      <td>52fe4284c3a36847f8024fa1</td>\n",
       "      <td>2</td>\n",
       "      <td>862</td>\n",
       "      <td>Jim Varney</td>\n",
       "      <td>3</td>\n",
       "      <td>/eIo2jVVXYgjDtaHoF19Ll9vtW7h.jpg</td>\n",
       "      <td>Toy Story</td>\n",
       "      <td>12.451801</td>\n",
       "    </tr>\n",
       "    <tr>\n",
       "      <th>4</th>\n",
       "      <td>4</td>\n",
       "      <td>18</td>\n",
       "      <td>Rex (voice)</td>\n",
       "      <td>52fe4284c3a36847f8024fa5</td>\n",
       "      <td>2</td>\n",
       "      <td>862</td>\n",
       "      <td>Wallace Shawn</td>\n",
       "      <td>4</td>\n",
       "      <td>/oGE6JqPP2xH4tNORKNqxbNPYi7u.jpg</td>\n",
       "      <td>Toy Story</td>\n",
       "      <td>12.451801</td>\n",
       "    </tr>\n",
       "    <tr>\n",
       "      <th>...</th>\n",
       "      <td>...</td>\n",
       "      <td>...</td>\n",
       "      <td>...</td>\n",
       "      <td>...</td>\n",
       "      <td>...</td>\n",
       "      <td>...</td>\n",
       "      <td>...</td>\n",
       "      <td>...</td>\n",
       "      <td>...</td>\n",
       "      <td>...</td>\n",
       "      <td>...</td>\n",
       "    </tr>\n",
       "    <tr>\n",
       "      <th>562524</th>\n",
       "      <td>562127</td>\n",
       "      <td>2</td>\n",
       "      <td>NaN</td>\n",
       "      <td>52fe4ea59251416c7515d7d5</td>\n",
       "      <td>2</td>\n",
       "      <td>227506</td>\n",
       "      <td>Iwan Mosschuchin</td>\n",
       "      <td>0</td>\n",
       "      <td>NaN</td>\n",
       "      <td>NaN</td>\n",
       "      <td>NaN</td>\n",
       "    </tr>\n",
       "    <tr>\n",
       "      <th>562525</th>\n",
       "      <td>562128</td>\n",
       "      <td>3</td>\n",
       "      <td>NaN</td>\n",
       "      <td>52fe4ea59251416c7515d7d9</td>\n",
       "      <td>1</td>\n",
       "      <td>227506</td>\n",
       "      <td>Nathalie Lissenko</td>\n",
       "      <td>1</td>\n",
       "      <td>NaN</td>\n",
       "      <td>NaN</td>\n",
       "      <td>NaN</td>\n",
       "    </tr>\n",
       "    <tr>\n",
       "      <th>562526</th>\n",
       "      <td>562129</td>\n",
       "      <td>4</td>\n",
       "      <td>NaN</td>\n",
       "      <td>52fe4ea59251416c7515d7dd</td>\n",
       "      <td>2</td>\n",
       "      <td>227506</td>\n",
       "      <td>Pavel Pavlov</td>\n",
       "      <td>2</td>\n",
       "      <td>NaN</td>\n",
       "      <td>NaN</td>\n",
       "      <td>NaN</td>\n",
       "    </tr>\n",
       "    <tr>\n",
       "      <th>562527</th>\n",
       "      <td>562130</td>\n",
       "      <td>5</td>\n",
       "      <td>NaN</td>\n",
       "      <td>52fe4ea59251416c7515d7e1</td>\n",
       "      <td>0</td>\n",
       "      <td>227506</td>\n",
       "      <td>Aleksandr Chabrov</td>\n",
       "      <td>3</td>\n",
       "      <td>NaN</td>\n",
       "      <td>NaN</td>\n",
       "      <td>NaN</td>\n",
       "    </tr>\n",
       "    <tr>\n",
       "      <th>562528</th>\n",
       "      <td>562131</td>\n",
       "      <td>6</td>\n",
       "      <td>NaN</td>\n",
       "      <td>52fe4ea59251416c7515d7e5</td>\n",
       "      <td>1</td>\n",
       "      <td>227506</td>\n",
       "      <td>Vera Orlova</td>\n",
       "      <td>4</td>\n",
       "      <td>/n1NXVGNzNxtqsMWxLT1h8GO8Kpi.jpg</td>\n",
       "      <td>NaN</td>\n",
       "      <td>NaN</td>\n",
       "    </tr>\n",
       "  </tbody>\n",
       "</table>\n",
       "<p>562529 rows × 11 columns</p>\n",
       "</div>"
      ],
      "text/plain": [
       "        Unnamed: 0  cast_id                character  \\\n",
       "0                0       14            Woody (voice)   \n",
       "1                1       15   Buzz Lightyear (voice)   \n",
       "2                2       16  Mr. Potato Head (voice)   \n",
       "3                3       17       Slinky Dog (voice)   \n",
       "4                4       18              Rex (voice)   \n",
       "...            ...      ...                      ...   \n",
       "562524      562127        2                      NaN   \n",
       "562525      562128        3                      NaN   \n",
       "562526      562129        4                      NaN   \n",
       "562527      562130        5                      NaN   \n",
       "562528      562131        6                      NaN   \n",
       "\n",
       "                       credit_id  gender      id               name  order  \\\n",
       "0       52fe4284c3a36847f8024f95       2     862          Tom Hanks      0   \n",
       "1       52fe4284c3a36847f8024f99       2     862          Tim Allen      1   \n",
       "2       52fe4284c3a36847f8024f9d       2     862        Don Rickles      2   \n",
       "3       52fe4284c3a36847f8024fa1       2     862         Jim Varney      3   \n",
       "4       52fe4284c3a36847f8024fa5       2     862      Wallace Shawn      4   \n",
       "...                          ...     ...     ...                ...    ...   \n",
       "562524  52fe4ea59251416c7515d7d5       2  227506   Iwan Mosschuchin      0   \n",
       "562525  52fe4ea59251416c7515d7d9       1  227506  Nathalie Lissenko      1   \n",
       "562526  52fe4ea59251416c7515d7dd       2  227506       Pavel Pavlov      2   \n",
       "562527  52fe4ea59251416c7515d7e1       0  227506  Aleksandr Chabrov      3   \n",
       "562528  52fe4ea59251416c7515d7e5       1  227506        Vera Orlova      4   \n",
       "\n",
       "                            profile_path      title     return  \n",
       "0       /pQFoyx7rp09CJTAb932F2g8Nlho.jpg  Toy Story  12.451801  \n",
       "1       /uX2xVf6pMmPepxnvFWyBtjexzgY.jpg  Toy Story  12.451801  \n",
       "2       /h5BcaDMPRVLHLDzbQavec4xfSdt.jpg  Toy Story  12.451801  \n",
       "3       /eIo2jVVXYgjDtaHoF19Ll9vtW7h.jpg  Toy Story  12.451801  \n",
       "4       /oGE6JqPP2xH4tNORKNqxbNPYi7u.jpg  Toy Story  12.451801  \n",
       "...                                  ...        ...        ...  \n",
       "562524                               NaN        NaN        NaN  \n",
       "562525                               NaN        NaN        NaN  \n",
       "562526                               NaN        NaN        NaN  \n",
       "562527                               NaN        NaN        NaN  \n",
       "562528  /n1NXVGNzNxtqsMWxLT1h8GO8Kpi.jpg        NaN        NaN  \n",
       "\n",
       "[562529 rows x 11 columns]"
      ]
     },
     "execution_count": 33,
     "metadata": {},
     "output_type": "execute_result"
    }
   ],
   "source": [
    "actor = df_cast.merge(df_movies[['title', \"return\", 'id']], how=\"left\", on=\"id\")  \n",
    "actor"
   ]
  },
  {
   "cell_type": "code",
   "execution_count": 34,
   "metadata": {},
   "outputs": [],
   "source": [
    "actor.to_csv('actor.csv')"
   ]
  },
  {
   "cell_type": "code",
   "execution_count": 35,
   "metadata": {},
   "outputs": [
    {
     "name": "stdout",
     "output_type": "stream",
     "text": [
      "no esta la pelicula\n",
      "Tim Allen 29 50.202883432249976 1.7311339114568958\n"
     ]
    }
   ],
   "source": [
    "nombres= actor['name']\n",
    "buscado='Tim Allen'\n",
    "\n",
    "for nombre in nombres:\n",
    "    buscado='Tim Allen'\n",
    "    if nombre == buscado:\n",
    "        contador = actor[actor['name'] == buscado]['title'].shape[0]\n",
    "        retorno_total = actor[actor['name'] == buscado]['return'].sum()\n",
    "        retorno_promedio= retorno_total/ contador\n",
    "        print(nombre ,contador, retorno_total, retorno_promedio )\n",
    "        break\n",
    "    else:\n",
    "        print('no esta la pelicula')"
   ]
  },
  {
   "cell_type": "code",
   "execution_count": 36,
   "metadata": {},
   "outputs": [],
   "source": [
    "def get_actor(nombre_actor) :\n",
    "    nombres = actor['name'] \n",
    "    \n",
    "    for nombre in nombres:\n",
    "        if nombre == nombre_actor:\n",
    "            contador= actor[actor['name'] == nombre_actor]['title'].shape[0]\n",
    "            retorno_total = actor[actor['name'] == nombre_actor]['return'].sum().round(2)\n",
    "            retorno_promedio = (retorno_total / contador).round(2)\n",
    "            \n",
    "        \n",
    "            return f\"El actor {nombre.capitalize()} ha recibido de {contador} filmaciones, un retorno de {retorno_total} con un promedio de {retorno_promedio} por filmación.\"\n",
    "    \n",
    "    return  'No se ha encontrado el actor solicitado.'"
   ]
  },
  {
   "cell_type": "code",
   "execution_count": 37,
   "metadata": {},
   "outputs": [
    {
     "data": {
      "text/plain": [
       "'El actor Tim allen ha recibido de 29 filmaciones, un retorno de 50.2 con un promedio de 1.73 por filmación.'"
      ]
     },
     "execution_count": 37,
     "metadata": {},
     "output_type": "execute_result"
    }
   ],
   "source": [
    "get_actor('Tim Allen')"
   ]
  },
  {
   "attachments": {},
   "cell_type": "markdown",
   "metadata": {},
   "source": [
    "# Director"
   ]
  },
  {
   "cell_type": "code",
   "execution_count": 58,
   "metadata": {},
   "outputs": [
    {
     "data": {
      "text/html": [
       "<div>\n",
       "<style scoped>\n",
       "    .dataframe tbody tr th:only-of-type {\n",
       "        vertical-align: middle;\n",
       "    }\n",
       "\n",
       "    .dataframe tbody tr th {\n",
       "        vertical-align: top;\n",
       "    }\n",
       "\n",
       "    .dataframe thead th {\n",
       "        text-align: right;\n",
       "    }\n",
       "</style>\n",
       "<table border=\"1\" class=\"dataframe\">\n",
       "  <thead>\n",
       "    <tr style=\"text-align: right;\">\n",
       "      <th></th>\n",
       "      <th>Unnamed: 0</th>\n",
       "      <th>credit_id</th>\n",
       "      <th>department</th>\n",
       "      <th>gender</th>\n",
       "      <th>id</th>\n",
       "      <th>job</th>\n",
       "      <th>name</th>\n",
       "      <th>profile_path</th>\n",
       "      <th>title</th>\n",
       "      <th>release_date</th>\n",
       "      <th>budget</th>\n",
       "      <th>revenue</th>\n",
       "      <th>return</th>\n",
       "    </tr>\n",
       "  </thead>\n",
       "  <tbody>\n",
       "    <tr>\n",
       "      <th>0</th>\n",
       "      <td>0</td>\n",
       "      <td>52fe4284c3a36847f8024f49</td>\n",
       "      <td>Directing</td>\n",
       "      <td>2</td>\n",
       "      <td>862</td>\n",
       "      <td>Director</td>\n",
       "      <td>John Lasseter</td>\n",
       "      <td>/7EdqiNbr4FRjIhKHyPPdFfEEEFG.jpg</td>\n",
       "      <td>Toy Story</td>\n",
       "      <td>1995-10-30</td>\n",
       "      <td>30000000</td>\n",
       "      <td>373554033.0</td>\n",
       "      <td>12.451801</td>\n",
       "    </tr>\n",
       "    <tr>\n",
       "      <th>1</th>\n",
       "      <td>1</td>\n",
       "      <td>52fe4284c3a36847f8024f4f</td>\n",
       "      <td>Writing</td>\n",
       "      <td>2</td>\n",
       "      <td>862</td>\n",
       "      <td>Screenplay</td>\n",
       "      <td>Joss Whedon</td>\n",
       "      <td>/dTiVsuaTVTeGmvkhcyJvKp2A5kr.jpg</td>\n",
       "      <td>Toy Story</td>\n",
       "      <td>1995-10-30</td>\n",
       "      <td>30000000</td>\n",
       "      <td>373554033.0</td>\n",
       "      <td>12.451801</td>\n",
       "    </tr>\n",
       "    <tr>\n",
       "      <th>2</th>\n",
       "      <td>2</td>\n",
       "      <td>52fe4284c3a36847f8024f55</td>\n",
       "      <td>Writing</td>\n",
       "      <td>2</td>\n",
       "      <td>862</td>\n",
       "      <td>Screenplay</td>\n",
       "      <td>Andrew Stanton</td>\n",
       "      <td>/pvQWsu0qc8JFQhMVJkTHuexUAa1.jpg</td>\n",
       "      <td>Toy Story</td>\n",
       "      <td>1995-10-30</td>\n",
       "      <td>30000000</td>\n",
       "      <td>373554033.0</td>\n",
       "      <td>12.451801</td>\n",
       "    </tr>\n",
       "    <tr>\n",
       "      <th>3</th>\n",
       "      <td>3</td>\n",
       "      <td>52fe4284c3a36847f8024f5b</td>\n",
       "      <td>Writing</td>\n",
       "      <td>2</td>\n",
       "      <td>862</td>\n",
       "      <td>Screenplay</td>\n",
       "      <td>Joel Cohen</td>\n",
       "      <td>/dAubAiZcvKFbboWlj7oXOkZnTSu.jpg</td>\n",
       "      <td>Toy Story</td>\n",
       "      <td>1995-10-30</td>\n",
       "      <td>30000000</td>\n",
       "      <td>373554033.0</td>\n",
       "      <td>12.451801</td>\n",
       "    </tr>\n",
       "    <tr>\n",
       "      <th>4</th>\n",
       "      <td>4</td>\n",
       "      <td>52fe4284c3a36847f8024f61</td>\n",
       "      <td>Writing</td>\n",
       "      <td>0</td>\n",
       "      <td>862</td>\n",
       "      <td>Screenplay</td>\n",
       "      <td>Alec Sokolow</td>\n",
       "      <td>/v79vlRYi94BZUQnkkyznbGUZLjT.jpg</td>\n",
       "      <td>Toy Story</td>\n",
       "      <td>1995-10-30</td>\n",
       "      <td>30000000</td>\n",
       "      <td>373554033.0</td>\n",
       "      <td>12.451801</td>\n",
       "    </tr>\n",
       "    <tr>\n",
       "      <th>...</th>\n",
       "      <td>...</td>\n",
       "      <td>...</td>\n",
       "      <td>...</td>\n",
       "      <td>...</td>\n",
       "      <td>...</td>\n",
       "      <td>...</td>\n",
       "      <td>...</td>\n",
       "      <td>...</td>\n",
       "      <td>...</td>\n",
       "      <td>...</td>\n",
       "      <td>...</td>\n",
       "      <td>...</td>\n",
       "      <td>...</td>\n",
       "    </tr>\n",
       "    <tr>\n",
       "      <th>464358</th>\n",
       "      <td>463922</td>\n",
       "      <td>52fe4776c3a368484e0c8399</td>\n",
       "      <td>Sound</td>\n",
       "      <td>0</td>\n",
       "      <td>67758</td>\n",
       "      <td>Original Music Composer</td>\n",
       "      <td>Richard McHugh</td>\n",
       "      <td>NaN</td>\n",
       "      <td>NaN</td>\n",
       "      <td>NaN</td>\n",
       "      <td>NaN</td>\n",
       "      <td>NaN</td>\n",
       "      <td>NaN</td>\n",
       "    </tr>\n",
       "    <tr>\n",
       "      <th>464359</th>\n",
       "      <td>463923</td>\n",
       "      <td>52fe4776c3a368484e0c839f</td>\n",
       "      <td>Camera</td>\n",
       "      <td>2</td>\n",
       "      <td>67758</td>\n",
       "      <td>Director of Photography</td>\n",
       "      <td>João Fernandes</td>\n",
       "      <td>NaN</td>\n",
       "      <td>NaN</td>\n",
       "      <td>NaN</td>\n",
       "      <td>NaN</td>\n",
       "      <td>NaN</td>\n",
       "      <td>NaN</td>\n",
       "    </tr>\n",
       "    <tr>\n",
       "      <th>464360</th>\n",
       "      <td>463924</td>\n",
       "      <td>533bccebc3a36844cf0011a7</td>\n",
       "      <td>Directing</td>\n",
       "      <td>0</td>\n",
       "      <td>227506</td>\n",
       "      <td>Director</td>\n",
       "      <td>Yakov Protazanov</td>\n",
       "      <td>/yyjbGdCs2ZN6IlZNCfmBWyuRDlt.jpg</td>\n",
       "      <td>NaN</td>\n",
       "      <td>NaN</td>\n",
       "      <td>NaN</td>\n",
       "      <td>NaN</td>\n",
       "      <td>NaN</td>\n",
       "    </tr>\n",
       "    <tr>\n",
       "      <th>464361</th>\n",
       "      <td>463925</td>\n",
       "      <td>58ebbc26925141281908aa0a</td>\n",
       "      <td>Production</td>\n",
       "      <td>2</td>\n",
       "      <td>227506</td>\n",
       "      <td>Producer</td>\n",
       "      <td>Joseph N. Ermolieff</td>\n",
       "      <td>NaN</td>\n",
       "      <td>NaN</td>\n",
       "      <td>NaN</td>\n",
       "      <td>NaN</td>\n",
       "      <td>NaN</td>\n",
       "      <td>NaN</td>\n",
       "    </tr>\n",
       "    <tr>\n",
       "      <th>464362</th>\n",
       "      <td>463926</td>\n",
       "      <td>593e676c92514105b702e68e</td>\n",
       "      <td>Directing</td>\n",
       "      <td>0</td>\n",
       "      <td>461257</td>\n",
       "      <td>Director</td>\n",
       "      <td>Daisy Asquith</td>\n",
       "      <td>NaN</td>\n",
       "      <td>NaN</td>\n",
       "      <td>NaN</td>\n",
       "      <td>NaN</td>\n",
       "      <td>NaN</td>\n",
       "      <td>NaN</td>\n",
       "    </tr>\n",
       "  </tbody>\n",
       "</table>\n",
       "<p>464363 rows × 13 columns</p>\n",
       "</div>"
      ],
      "text/plain": [
       "        Unnamed: 0                 credit_id  department  gender      id  \\\n",
       "0                0  52fe4284c3a36847f8024f49   Directing       2     862   \n",
       "1                1  52fe4284c3a36847f8024f4f     Writing       2     862   \n",
       "2                2  52fe4284c3a36847f8024f55     Writing       2     862   \n",
       "3                3  52fe4284c3a36847f8024f5b     Writing       2     862   \n",
       "4                4  52fe4284c3a36847f8024f61     Writing       0     862   \n",
       "...            ...                       ...         ...     ...     ...   \n",
       "464358      463922  52fe4776c3a368484e0c8399       Sound       0   67758   \n",
       "464359      463923  52fe4776c3a368484e0c839f      Camera       2   67758   \n",
       "464360      463924  533bccebc3a36844cf0011a7   Directing       0  227506   \n",
       "464361      463925  58ebbc26925141281908aa0a  Production       2  227506   \n",
       "464362      463926  593e676c92514105b702e68e   Directing       0  461257   \n",
       "\n",
       "                            job                 name  \\\n",
       "0                      Director        John Lasseter   \n",
       "1                    Screenplay          Joss Whedon   \n",
       "2                    Screenplay       Andrew Stanton   \n",
       "3                    Screenplay           Joel Cohen   \n",
       "4                    Screenplay         Alec Sokolow   \n",
       "...                         ...                  ...   \n",
       "464358  Original Music Composer       Richard McHugh   \n",
       "464359  Director of Photography       João Fernandes   \n",
       "464360                 Director     Yakov Protazanov   \n",
       "464361                 Producer  Joseph N. Ermolieff   \n",
       "464362                 Director        Daisy Asquith   \n",
       "\n",
       "                            profile_path      title release_date    budget  \\\n",
       "0       /7EdqiNbr4FRjIhKHyPPdFfEEEFG.jpg  Toy Story   1995-10-30  30000000   \n",
       "1       /dTiVsuaTVTeGmvkhcyJvKp2A5kr.jpg  Toy Story   1995-10-30  30000000   \n",
       "2       /pvQWsu0qc8JFQhMVJkTHuexUAa1.jpg  Toy Story   1995-10-30  30000000   \n",
       "3       /dAubAiZcvKFbboWlj7oXOkZnTSu.jpg  Toy Story   1995-10-30  30000000   \n",
       "4       /v79vlRYi94BZUQnkkyznbGUZLjT.jpg  Toy Story   1995-10-30  30000000   \n",
       "...                                  ...        ...          ...       ...   \n",
       "464358                               NaN        NaN          NaN       NaN   \n",
       "464359                               NaN        NaN          NaN       NaN   \n",
       "464360  /yyjbGdCs2ZN6IlZNCfmBWyuRDlt.jpg        NaN          NaN       NaN   \n",
       "464361                               NaN        NaN          NaN       NaN   \n",
       "464362                               NaN        NaN          NaN       NaN   \n",
       "\n",
       "            revenue     return  \n",
       "0       373554033.0  12.451801  \n",
       "1       373554033.0  12.451801  \n",
       "2       373554033.0  12.451801  \n",
       "3       373554033.0  12.451801  \n",
       "4       373554033.0  12.451801  \n",
       "...             ...        ...  \n",
       "464358          NaN        NaN  \n",
       "464359          NaN        NaN  \n",
       "464360          NaN        NaN  \n",
       "464361          NaN        NaN  \n",
       "464362          NaN        NaN  \n",
       "\n",
       "[464363 rows x 13 columns]"
      ]
     },
     "execution_count": 58,
     "metadata": {},
     "output_type": "execute_result"
    }
   ],
   "source": [
    "#hago un  merge entre crew y movies para armar un dataset mas chico para las consultas\n",
    "director = df_crew.merge(df_movies[['title', 'release_date','budget', 'revenue','return', 'id']], how='left', on='id')  \n",
    "director"
   ]
  },
  {
   "cell_type": "code",
   "execution_count": 60,
   "metadata": {},
   "outputs": [],
   "source": [
    "director.drop_duplicates(inplace=True)\n",
    "director.reset_index(drop=True, inplace=True)"
   ]
  },
  {
   "cell_type": "code",
   "execution_count": 133,
   "metadata": {},
   "outputs": [],
   "source": [
    "director.to_csv('director.csv')"
   ]
  },
  {
   "cell_type": "code",
   "execution_count": 129,
   "metadata": {},
   "outputs": [
    {
     "data": {
      "text/plain": [
       "'Joe Ranft'"
      ]
     },
     "execution_count": 129,
     "metadata": {},
     "output_type": "execute_result"
    }
   ],
   "source": [
    "director['name'][20]"
   ]
  },
  {
   "cell_type": "code",
   "execution_count": 131,
   "metadata": {},
   "outputs": [],
   "source": [
    "def get_director(nombre_director):\n",
    "    nombres = director['name']\n",
    "    \n",
    "    for nombre in nombres:\n",
    "        if nombre == nombre_director:\n",
    "            peliculas = (director[director['name'] == nombre_director]['title']).drop_duplicates()\n",
    "            exito = (((director[director['name'] == nombre_director]['return']).drop_duplicates()).sum()).round(2)\n",
    "            \n",
    "        \n",
    "            resultado = f\"El director {nombre.capitalize()} ha obtenido un éxito de {exito}. Sus películas:\\n\"\n",
    "            \n",
    "            for i, pelicula in enumerate(peliculas):\n",
    "                fecha_lanzamiento = director[(director['name'] == nombre_director) & (director['title'] == pelicula)]['release_date'].iloc[0]\n",
    "                retorno = director[(director['name'] == nombre_director) & (director['title'] == pelicula)]['return'].iloc[0]\n",
    "                costo = director[(director['name'] == nombre_director) & (director['title'] == pelicula)]['budget'].iloc[0]\n",
    "                ganancia = director[(director['name'] == nombre_director) & (director['title'] == pelicula)]['revenue'].iloc[0]\n",
    "                \n",
    "                resultado += f\"Película {i+1}: {pelicula}, lanzada el {fecha_lanzamiento} con un retorno de {retorno}. Sus costos={costo} USD y ganancias={ganancia} USD \\n \"\n",
    "            \n",
    "           \n",
    "            \n",
    "            return print(resultado)\n",
    "    \n",
    "    return 'No se ha encontrado el director solicitado.'\n",
    "\n"
   ]
  },
  {
   "cell_type": "code",
   "execution_count": 132,
   "metadata": {},
   "outputs": [
    {
     "name": "stdout",
     "output_type": "stream",
     "text": [
      "El director Joe ranft ha obtenido un éxito de 44.16. Sus películas:\n",
      "Película 1: Toy Story, lanzada el 1995-10-30 con un retorno de 12.4518011. Sus costos=30000000 USD y ganancias=373554033.0 USD \n",
      " Película 2: Beauty and the Beast, lanzada el 1991-11-13 con un retorno de 15.09402212. Sus costos=25000000 USD y ganancias=377350553.0 USD \n",
      " Película 3: The Little Mermaid, lanzada el 1992-12-10 con un retorno de 5.5575. Sus costos=40000000 USD y ganancias=222300000.0 USD \n",
      " Película 4: The Rescuers Down Under, lanzada el 1978-03-10 con un retorno de 1.2504669267881152. Sus costos=37931000 USD y ganancias=47431461.0 USD \n",
      " Película 5: A Bug's Life, lanzada el 1998-01-16 con un retorno de 3.027157158333333. Sus costos=120000000 USD y ganancias=363258859.0 USD \n",
      " Película 6: The Brave Little Toaster, lanzada el 1987-01-16 con un retorno de 0.0. Sus costos=2000000 USD y ganancias=0.0 USD \n",
      " Película 7: Corpse Bride, lanzada el 2005-09-30 con un retorno de 2.929876525. Sus costos=40000000 USD y ganancias=117195061.0 USD \n",
      " Película 8: Cars, lanzada el 1996-10-17 con un retorno de 3.849859575. Sus costos=120000000 USD y ganancias=461983149.0 USD \n",
      " Película 9: Geri's Game, lanzada el 1995-01-01 con un retorno de 0.0. Sus costos=0 USD y ganancias=0.0 USD \n",
      " Película 10: Mater and the Ghostlight, lanzada el 2014-11-05 con un retorno de 0.0. Sus costos=0 USD y ganancias=0.0 USD \n",
      " \n"
     ]
    }
   ],
   "source": [
    "get_director('Joe Ranft')"
   ]
  },
  {
   "cell_type": "code",
   "execution_count": null,
   "metadata": {},
   "outputs": [],
   "source": [
    "def get_director( nombre_director):\n",
    "    nombres = director['name']\n",
    "    \n",
    "    for nombre in nombres:\n",
    "        if nombre == nombre_director:\n",
    "           \n",
    "            peliculas= (director[director['name'] == nombre_director]['title']).drop_duplicates()\n",
    "            exito= (director[director['name'] == nombre_director]['release_date']).drop_duplicates()\n",
    "            retorno=(director[director['name'] == nombre_director]['return'].drop_duplicates()).sum().round(2)\n",
    "            costo= (director[director['name'] == nombre_director]['release_date'].drop_duplicates)\n",
    "            ganancia= (director[director['name'] == nombre_director]['release_date']).drop_duplicates()\n",
    "        \n",
    "            return f\"El actor {nombre.capitalize()} ha obtenido un exito de {exito}. Sus peliculas: {peliculas} lanzada el {fecha} con un retorno= {retorno}, costo= {costo}USD y ganancia= {ganancia}USD \"\n",
    "    \n",
    "    return  'No se ha encontrado el actor solicitado.'\n",
    "    "
   ]
  },
  {
   "cell_type": "code",
   "execution_count": null,
   "metadata": {},
   "outputs": [],
   "source": [
    "#Deben crear 6 funciones para los endpoints que se consumirán en la API, recuerden que deben tener un decorador por cada una (@app.get('/')).\n",
    "\n",
    "#def cantidad_filmaciones_mes( Mes) : Se ingresa un mes en idioma Español. Debe devolver la cantidad de películas que fueron estrenadas en el mes consultado en la totalidad del conjunto de datos.\n",
    "#                   Ejemplo de retorno: Xcantidad de peliculas fueron estrenadas en el mes deX\n",
    "\n",
    "#def cantidad_filmaciones_dia( Dia) : Se ingresa un día en idioma Español. Debe devolver la cantidad de películas que fueron estrenadas en el día consultado en la totalidad del conjunto de datos.\n",
    "#                    Ejemplo de retorno: Xcantidad de películas fueron estrenadas en los díasX\n",
    "\n",
    "#def score_titulo( titulo_de_la_filmación) : Se ingresa el título de una filmación esperando como respuesta el título, el año de estreno y el score.\n",
    "#                    Ejemplo de retorno: La película Xfue estrenada en el año Xcon una puntuación/popularidad deX\n",
    "\n",
    "#def votos_titulo( titulo_de_la_filmación) : Se ingresa el título de una filmación esperando como respuesta el título, la cantidad de votos y el valor promedio de las votaciones. La misma variable deberá contar con al menos 2000 valoraciones, caso contrario, debemos contar con un mensaje avisando que no cumple esta condición y que por ende, no se devuelve ningun valor.\n",
    "#                    Ejemplo de retorno: La película Xfue estrenada en el año X. La misma cuenta con un total de Xvaloraciones, con un promedio deX\n",
    "\n",
    "#def get_actor( nombre_actor) : Se ingresa el nombre de un actor que se encuentra dentro de un dataset debiendo devolver el éxito del mismo medido a través del retorno. Además, la cantidad de películas que en las que ha realizado y el promedio de retorno. La definición no deberá considerar directores.\n",
    "#                   Ejemplo de retorno: El actor Xha recibido de Xcantidad de filmaciones, el mismo ha obtenido un retorno de Xcon un promedio de Xpor filmación\n",
    "\n",
    "#def get_director( nombre_director) : Se ingresa el nombre de un director que se encuentra dentro de un dataset debiendo devolver el éxito del mismo medido a través del retorno. Además, deberá devolver el nombre de cada película con la fecha de lanzamiento, retorno individual, costo y ganancia de la misma."
   ]
  },
  {
   "cell_type": "code",
   "execution_count": 49,
   "metadata": {},
   "outputs": [
    {
     "name": "stderr",
     "output_type": "stream",
     "text": [
      "C:\\Users\\clari\\AppData\\Local\\Temp\\ipykernel_15740\\489946956.py:1: DtypeWarning: Columns (6) have mixed types. Specify dtype option on import or set low_memory=False.\n",
      "  movies= pd.read_csv('../ETL/movies_limpio.csv')\n"
     ]
    }
   ],
   "source": [
    "movies= pd.read_csv('../ETL/movies_limpio.csv')"
   ]
  },
  {
   "cell_type": "code",
   "execution_count": 50,
   "metadata": {},
   "outputs": [
    {
     "data": {
      "text/plain": [
       "'Ace Ventura: When Nature Calls'"
      ]
     },
     "execution_count": 50,
     "metadata": {},
     "output_type": "execute_result"
    }
   ],
   "source": [
    "movies['title'][18]"
   ]
  }
 ],
 "metadata": {
  "kernelspec": {
   "display_name": "PI",
   "language": "python",
   "name": "python3"
  },
  "language_info": {
   "codemirror_mode": {
    "name": "ipython",
    "version": 3
   },
   "file_extension": ".py",
   "mimetype": "text/x-python",
   "name": "python",
   "nbconvert_exporter": "python",
   "pygments_lexer": "ipython3",
   "version": "3.11.0"
  },
  "orig_nbformat": 4
 },
 "nbformat": 4,
 "nbformat_minor": 2
}
