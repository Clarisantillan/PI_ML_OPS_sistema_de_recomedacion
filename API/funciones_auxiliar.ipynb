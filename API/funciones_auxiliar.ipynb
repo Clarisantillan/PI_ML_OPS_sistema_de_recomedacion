{
 "cells": [
  {
   "cell_type": "code",
   "execution_count": 2,
   "metadata": {},
   "outputs": [],
   "source": [
    "import pandas as pd\n",
    "import numpy as np"
   ]
  },
  {
   "cell_type": "code",
   "execution_count": 3,
   "metadata": {},
   "outputs": [
    {
     "name": "stderr",
     "output_type": "stream",
     "text": [
      "C:\\Users\\clari\\AppData\\Local\\Temp\\ipykernel_8404\\1921079773.py:1: DtypeWarning: Columns (6) have mixed types. Specify dtype option on import or set low_memory=False.\n",
      "  df_movies= pd.read_csv('../ETL/movies_limpio.csv')\n"
     ]
    }
   ],
   "source": [
    "df_movies= pd.read_csv('../ETL/movies_limpio.csv')\n",
    "actor= pd.read_csv('../ETL/actor.csv')\n",
    "director= pd.read_csv('../ETL/director.csv')"
   ]
  },
  {
   "cell_type": "code",
   "execution_count": 4,
   "metadata": {},
   "outputs": [
    {
     "name": "stdout",
     "output_type": "stream",
     "text": [
      "3145 película(s) fueron estrenadas en el mes de Junio.\n"
     ]
    }
   ],
   "source": [
    "def cantidad_filmaciones_mes(mes):\n",
    "    meses = {\n",
    "        \"enero\": 1,\n",
    "        \"febrero\": 2,\n",
    "        \"marzo\": 3,\n",
    "        \"abril\": 4,\n",
    "        \"mayo\": 5,\n",
    "        \"junio\": 6,\n",
    "        \"julio\": 7,\n",
    "        \"agosto\": 8,\n",
    "        \"septiembre\": 9,\n",
    "        \"octubre\": 10,\n",
    "        \"noviembre\": 11,\n",
    "        \"diciembre\": 12\n",
    "    }\n",
    "\n",
    "    if mes.lower() in meses:\n",
    "        numero_mes = meses[mes.lower()]\n",
    "        cantidad_peliculas = obtener_cantidad_peliculas_mes(numero_mes)\n",
    "        return f\"{cantidad_peliculas} película(s) fueron estrenadas en el mes de {mes.capitalize()}.\"\n",
    "    else:\n",
    "        return \"El mes ingresado no es válido.\"\n",
    "\n",
    "# Función auxiliar para obtener la cantidad de películas estrenadas en x mes\n",
    "def obtener_cantidad_peliculas_mes(numero_mes):\n",
    "    cantidad_peliculas = len(df_movies[df_movies['release_month'] == numero_mes])\n",
    "    return cantidad_peliculas\n",
    "\n",
    "\n",
    "#prueba\n",
    "mes_consultado = \"Junio\"\n",
    "resultado = cantidad_filmaciones_mes(mes_consultado)\n",
    "print(resultado)\n"
   ]
  },
  {
   "attachments": {},
   "cell_type": "markdown",
   "metadata": {},
   "source": [
    "# funcion dia"
   ]
  },
  {
   "cell_type": "code",
   "execution_count": 5,
   "metadata": {},
   "outputs": [
    {
     "data": {
      "text/plain": [
       "'4630 película(s) fueron estrenadas en los días Martes.'"
      ]
     },
     "execution_count": 5,
     "metadata": {},
     "output_type": "execute_result"
    }
   ],
   "source": [
    "def cantidad_filmaciones_dia(dia:str):\n",
    "    dia=dia.lower()\n",
    "    dias=['lunes','martes','miercoles','jueves','viernes','sabado','domingo']\n",
    "    \n",
    "    if dia == \"lunes\" or dia == \"martes\" or dia == \"miércoles\" or dia == \"jueves\" or dia == \"viernes\" or dia == \"sábado\" or dia == \"domingo\":\n",
    "        aux_dia = dias.index(dia)\n",
    "        df_movies[\"release_date\"] = pd.to_datetime(df_movies[\"release_date\"])\n",
    "        df_movies[\"release_day\"] = df_movies[\"release_date\"].dt.weekday\n",
    "        resultado = df_movies.loc[df_movies[\"release_day\"] == aux_dia].shape[0]\n",
    "        return f\"{resultado} película(s) fueron estrenadas en los días {dia.capitalize()}.\"  \n",
    "    \n",
    "    else:\n",
    "        resultado = 'El día ingresado no es válido'\n",
    "        return resultado  \n",
    "   \n",
    "   \n",
    "cantidad_filmaciones_dia('martes')"
   ]
  },
  {
   "attachments": {},
   "cell_type": "markdown",
   "metadata": {},
   "source": [
    "# Score"
   ]
  },
  {
   "cell_type": "code",
   "execution_count": 6,
   "metadata": {},
   "outputs": [],
   "source": [
    "def score_titulo(titulo_de_la_filmacion):\n",
    "    titulos = df_movies['title']\n",
    "    \n",
    "    for titulo in titulos:\n",
    "        if titulo == titulo_de_la_filmacion:\n",
    "            fecha_series = df_movies[df_movies['title'] == titulo_de_la_filmacion]['release_year']\n",
    "            popularidad_series = df_movies[df_movies['title'] == titulo_de_la_filmacion]['popularity']\n",
    "            \n",
    "            if not fecha_series.empty and not popularidad_series.empty:\n",
    "                fecha = fecha_series.astype(str).iloc[0]\n",
    "                popularidad = popularidad_series.astype(str).iloc[0]\n",
    "                return f\"La película {titulo.capitalize()} fue estrenada en el año {fecha} con una puntuación/popularidad de {popularidad}.\"\n",
    "    \n",
    "    return 'No se ha encontrado el título de la filmación'\n"
   ]
  },
  {
   "cell_type": "code",
   "execution_count": 7,
   "metadata": {},
   "outputs": [
    {
     "name": "stdout",
     "output_type": "stream",
     "text": [
      "La película Toy story fue estrenada en el año 1995 con una puntuación/popularidad de 21.946943.\n",
      "La película A death in the gunj fue estrenada en el año 1991 con una puntuación/popularidad de 0.516993.\n",
      "La película Waiting to exhale fue estrenada en el año 1995 con una puntuación/popularidad de 3.859495.\n"
     ]
    }
   ],
   "source": [
    "print(score_titulo(\"Toy Story\"))\n",
    "print(score_titulo(\"A Death in the Gunj\"))\n",
    "print(score_titulo(\"Waiting to Exhale\"))"
   ]
  },
  {
   "cell_type": "code",
   "execution_count": 207,
   "metadata": {},
   "outputs": [
    {
     "data": {
      "text/plain": [
       "0                            Toy Story\n",
       "1                              Jumanji\n",
       "2                     Grumpier Old Men\n",
       "3                    Waiting to Exhale\n",
       "4          Father of the Bride Part II\n",
       "                     ...              \n",
       "45286              A Death in the Gunj\n",
       "45287                        Phillauri\n",
       "45288                     Polar Flight\n",
       "45289    Simbad e il califfo di Bagdad\n",
       "45290                        Black Sun\n",
       "Name: title, Length: 45291, dtype: object"
      ]
     },
     "execution_count": 207,
     "metadata": {},
     "output_type": "execute_result"
    }
   ],
   "source": [
    "df_movies['title']"
   ]
  },
  {
   "cell_type": "code",
   "execution_count": 184,
   "metadata": {},
   "outputs": [
    {
     "name": "stdout",
     "output_type": "stream",
     "text": [
      "Toy Story 1995-10-30\n"
     ]
    }
   ],
   "source": [
    "#creando la funcion\n",
    "titulos= df_movies['title']\n",
    "buscado='Toy Story'\n",
    "for titulo in titulos:\n",
    "    buscado='Toy Story'\n",
    "    if titulo == buscado:\n",
    "        fecha= df_movies[df_movies['title']== buscado]['release_date'].astype(str)[0]\n",
    "        print(titulo, fecha)\n",
    "        break\n",
    "    else:\n",
    "        print('no esta la pelicula')\n",
    "        \n"
   ]
  },
  {
   "cell_type": "code",
   "execution_count": 183,
   "metadata": {},
   "outputs": [
    {
     "data": {
      "text/plain": [
       "'1995-10-30'"
      ]
     },
     "execution_count": 183,
     "metadata": {},
     "output_type": "execute_result"
    }
   ],
   "source": [
    "fecha= df_movies[df_movies['title']== buscado]['release_date'].astype(str)[0]\n",
    "fecha\n"
   ]
  },
  {
   "cell_type": "code",
   "execution_count": 188,
   "metadata": {},
   "outputs": [
    {
     "data": {
      "text/plain": [
       "'21.946943'"
      ]
     },
     "execution_count": 188,
     "metadata": {},
     "output_type": "execute_result"
    }
   ],
   "source": [
    "popularidad= df_movies[df_movies['title']== buscado]['popularity'].astype(str)[0]\n",
    "popularidad"
   ]
  },
  {
   "attachments": {},
   "cell_type": "markdown",
   "metadata": {},
   "source": [
    "# Votos "
   ]
  },
  {
   "cell_type": "code",
   "execution_count": 8,
   "metadata": {},
   "outputs": [],
   "source": [
    "def votos_titulo(titulo_de_la_filmacion) : \n",
    "    titulos = df_movies['title']\n",
    "    \n",
    "    for titulo in titulos:\n",
    "        if titulo == titulo_de_la_filmacion:\n",
    "            fecha_series = df_movies[df_movies['title'] == titulo_de_la_filmacion]['release_year']\n",
    "            n_votos_series =  df_movies[df_movies['title'] == titulo_de_la_filmacion]['vote_count'].astype(int)\n",
    "            promedio_series = df_movies[df_movies['title'] == titulo_de_la_filmacion]['vote_average']\n",
    "            \n",
    "            if not n_votos_series.empty and not fecha_series.empty and not promedio_series.empty:\n",
    "                fecha = fecha_series.astype(str).iloc[0]\n",
    "                n_votos = int(n_votos_series.astype(str).iloc[0])\n",
    "                promedio= promedio_series.astype(str).iloc[0]\n",
    "                \n",
    "                if n_votos >= 2000:\n",
    "                 return f\"La película {titulo.capitalize()} fue estrenada en el año {fecha}. La misma cuenta con un total de {n_votos} valoraciones, con un promedio de {promedio}.\"\n",
    "    \n",
    "    return 'La filmacion no cuenta con suficientes votos para obtener la informacion solicitada.'\n",
    "\n",
    "            "
   ]
  },
  {
   "cell_type": "code",
   "execution_count": 9,
   "metadata": {},
   "outputs": [
    {
     "name": "stdout",
     "output_type": "stream",
     "text": [
      "La película Toy story fue estrenada en el año 1995. La misma cuenta con un total de 5415 valoraciones, con un promedio de 7.7.\n",
      "La filmacion no cuenta con suficientes votos para obtener la informacion solicitada.\n"
     ]
    }
   ],
   "source": [
    "print(votos_titulo('Toy Story'))\n",
    "print(votos_titulo('Grumpier Old Men'))"
   ]
  },
  {
   "cell_type": "code",
   "execution_count": 17,
   "metadata": {},
   "outputs": [],
   "source": [
    "titulo_de_la_filmacion= \"Toy Story\""
   ]
  },
  {
   "cell_type": "code",
   "execution_count": 14,
   "metadata": {},
   "outputs": [
    {
     "data": {
      "text/plain": [
       "0    5415\n",
       "Name: vote_count, dtype: int32"
      ]
     },
     "execution_count": 14,
     "metadata": {},
     "output_type": "execute_result"
    }
   ],
   "source": [
    "n_votos =  df_movies[df_movies['title'] == titulo_de_la_filmacion]['vote_count'].astype(int)\n",
    "n_votos"
   ]
  },
  {
   "attachments": {},
   "cell_type": "markdown",
   "metadata": {},
   "source": [
    "# actor"
   ]
  },
  {
   "cell_type": "code",
   "execution_count": 35,
   "metadata": {},
   "outputs": [
    {
     "name": "stdout",
     "output_type": "stream",
     "text": [
      "no esta la pelicula\n",
      "Tim Allen 29 50.202883432249976 1.7311339114568958\n"
     ]
    }
   ],
   "source": [
    "nombres= actor['name']\n",
    "buscado='Tim Allen'\n",
    "\n",
    "for nombre in nombres:\n",
    "    buscado='Tim Allen'\n",
    "    if nombre == buscado:\n",
    "        contador = actor[actor['name'] == buscado]['title'].shape[0]\n",
    "        retorno_total = actor[actor['name'] == buscado]['return'].sum()\n",
    "        retorno_promedio= retorno_total/ contador\n",
    "        print(nombre ,contador, retorno_total, retorno_promedio )\n",
    "        break\n",
    "    else:\n",
    "        print('no esta la pelicula')"
   ]
  },
  {
   "cell_type": "code",
   "execution_count": 10,
   "metadata": {},
   "outputs": [],
   "source": [
    "def get_actor(nombre_actor) :\n",
    "    nombres = actor['name'] \n",
    "    \n",
    "    for nombre in nombres:\n",
    "        if nombre == nombre_actor:\n",
    "            contador= actor[actor['name'] == nombre_actor]['title'].shape[0]\n",
    "            retorno_total = actor[actor['name'] == nombre_actor]['return'].sum().round(2)\n",
    "            retorno_promedio = (retorno_total / contador).round(2)\n",
    "            \n",
    "        \n",
    "            return f\"El actor {nombre.capitalize()} ha recibido de {contador} filmaciones, un retorno de {retorno_total} con un promedio de {retorno_promedio} por filmación.\"\n",
    "    \n",
    "    return  'No se ha encontrado el actor solicitado.'"
   ]
  },
  {
   "cell_type": "code",
   "execution_count": 11,
   "metadata": {},
   "outputs": [
    {
     "data": {
      "text/plain": [
       "'El actor Tim allen ha recibido de 29 filmaciones, un retorno de 50.2 con un promedio de 1.73 por filmación.'"
      ]
     },
     "execution_count": 11,
     "metadata": {},
     "output_type": "execute_result"
    }
   ],
   "source": [
    "get_actor('Tim Allen')"
   ]
  },
  {
   "attachments": {},
   "cell_type": "markdown",
   "metadata": {},
   "source": [
    "# Director"
   ]
  },
  {
   "cell_type": "code",
   "execution_count": 12,
   "metadata": {},
   "outputs": [],
   "source": [
    "def get_director(nombre_director):\n",
    "    nombres = director['name']\n",
    "    \n",
    "    for nombre in nombres:\n",
    "        if nombre == nombre_director:\n",
    "            peliculas = (director[director['name'] == nombre_director]['title']).drop_duplicates()\n",
    "            exito = (((director[director['name'] == nombre_director]['return']).drop_duplicates()).sum()).round(2)\n",
    "            \n",
    "        \n",
    "            resultado = f\"El director {nombre.capitalize()} ha obtenido un éxito de {exito}. Sus películas:\\n\"\n",
    "            \n",
    "            for i, pelicula in enumerate(peliculas):\n",
    "                fecha_lanzamiento = director[(director['name'] == nombre_director) & (director['title'] == pelicula)]['release_date'].iloc[0]\n",
    "                retorno = director[(director['name'] == nombre_director) & (director['title'] == pelicula)]['return'].iloc[0]\n",
    "                costo = director[(director['name'] == nombre_director) & (director['title'] == pelicula)]['budget'].iloc[0]\n",
    "                ganancia = director[(director['name'] == nombre_director) & (director['title'] == pelicula)]['revenue'].iloc[0]\n",
    "                \n",
    "                resultado += f\"Película {i+1}: {pelicula}, lanzada el {fecha_lanzamiento} con un retorno de {retorno}. Sus costos={costo} USD y ganancias={ganancia} USD \\n \"\n",
    "            \n",
    "           \n",
    "            \n",
    "            return print(resultado)\n",
    "    \n",
    "    return 'No se ha encontrado el director solicitado.'\n",
    "\n"
   ]
  },
  {
   "cell_type": "code",
   "execution_count": 13,
   "metadata": {},
   "outputs": [
    {
     "name": "stdout",
     "output_type": "stream",
     "text": [
      "El director Cedric gibbons ha obtenido un éxito de 96.44. Sus películas:\n",
      "Película 1: The Philadelphia Story, lanzada el 1951-08-08 con un retorno de 0.0. Sus costos=0.0 USD y ganancias=0.0 USD \n",
      " Película 2: Singin' in the Rain, lanzada el 1957-02-13 con un retorno de 2.8337531486146097. Sus costos=2540800.0 USD y ganancias=7200000.0 USD \n",
      " Película 3: An American in Paris, lanzada el 1961-10-05 con un retorno de 1.6520412070473875. Sus costos=2723903.0 USD y ganancias=4500000.0 USD \n",
      " Película 4: Gaslight, lanzada el 1959-07-07 con un retorno de 0.0. Sus costos=2068000.0 USD y ganancias=0.0 USD \n",
      " Película 5: Meet Me in St. Louis, lanzada el 1939-12-15 con un retorno de 0.0. Sus costos=0.0 USD y ganancias=0.0 USD \n",
      " Película 6: The Wizard of Oz, lanzada el 1982-10-01 con un retorno de 12.15519157364062. Sus costos=2777000.0 USD y ganancias=33754967.0 USD \n",
      " Película 7: The Women, lanzada el 1940-08-16 con un retorno de 1.34478672985782. Sus costos=1688000.0 USD y ganancias=2270000.0 USD \n",
      " Película 8: The Band Wagon, lanzada el 1957-06-30 con un retorno de 0.0. Sus costos=0.0 USD y ganancias=0.0 USD \n",
      " Película 9: Ninotchka, lanzada el 1958-04-15 con un retorno de 1.6695970695970697. Sus costos=1365000.0 USD y ganancias=2279000.0 USD \n",
      " Película 10: The Thin Man, lanzada el 1956-10-17 con un retorno de 6.285113600226141. Sus costos=226408.0 USD y ganancias=1423000.0 USD \n",
      " Película 11: Moonlight Murder, lanzada el 1985-01-01 con un retorno de 0.0. Sus costos=0.0 USD y ganancias=0.0 USD \n",
      " Película 12: Forbidden Planet, lanzada el 1975-12-03 con un retorno de 1.7105263157894737. Sus costos=1900000.0 USD y ganancias=3250000.0 USD \n",
      " Película 13: The Broadway Melody, lanzada el 1931-02-09 con un retorno de 11.49868073878628. Sus costos=379000.0 USD y ganancias=4358000.0 USD \n",
      " Película 14: Grand Hotel, lanzada el 1935-11-08 con un retorno de 3.7057142857142855. Sus costos=700000.0 USD y ganancias=2594000.0 USD \n",
      " Película 15: Mutiny on the Bounty, lanzada el 1937-10-02 con un retorno de 2.287179487179487. Sus costos=1950000.0 USD y ganancias=4460000.0 USD \n",
      " Película 16: The Great Ziegfeld, lanzada el 1938-08-23 con un retorno de 0.0. Sus costos=0.0 USD y ganancias=0.0 USD \n",
      " Película 17: Mrs. Miniver, lanzada el 1945-11-25 con un retorno de 10.044642857142858. Sus costos=1344000.0 USD y ganancias=13500000.0 USD \n",
      " Película 18: The Shop Around the Corner, lanzada el 1975-03-13 con un retorno de 0.0. Sus costos=0.0 USD y ganancias=0.0 USD \n",
      " Película 19: The Asphalt Jungle, lanzada el 1968-05-15 con un retorno de 0.0. Sus costos=0.0 USD y ganancias=0.0 USD \n",
      " Película 20: Anchors Aweigh, lanzada el 1960-11-23 con un retorno de 0.0. Sus costos=0.0 USD y ganancias=0.0 USD \n",
      " Película 21: The Yearling, lanzada el 1999-11-12 con un retorno de 0.0. Sus costos=0.0 USD y ganancias=0.0 USD \n",
      " Película 22: Scaramouche, lanzada el 1972-12-21 con un retorno de 2.244925124792013. Sus costos=3005000.0 USD y ganancias=6746000.0 USD \n",
      " Película 23: A Tale of Two Cities, lanzada el 1983-12-15 con un retorno de 0.0. Sus costos=0.0 USD y ganancias=0.0 USD \n",
      " Película 24: Little Women, lanzada el 1944-12-14 con un retorno de 0.0. Sus costos=0.0 USD y ganancias=0.0 USD \n",
      " Película 25: National Velvet, lanzada el 1946-10-29 con un retorno de 0.0. Sus costos=0.0 USD y ganancias=0.0 USD \n",
      " Película 26: Adam's Rib, lanzada el 1976-02-15 con un retorno de 0.0. Sus costos=0.0 USD y ganancias=0.0 USD \n",
      " Película 27: A Night at the Opera, lanzada el 2003-01-17 con un retorno de 0.0. Sus costos=0.0 USD y ganancias=0.0 USD \n",
      " Película 28: Dr. Jekyll and Mr. Hyde, lanzada el 1967-06-21 con un retorno de 0.0. Sus costos=0.0 USD y ganancias=0.0 USD \n",
      " Película 29: Woman of the Year, lanzada el 1955-10-10 con un retorno de 0.0. Sus costos=3000000.0 USD y ganancias=0.0 USD \n",
      " Película 30: The Canterville Ghost, lanzada el 1990-12-14 con un retorno de 0.0. Sus costos=0.0 USD y ganancias=0.0 USD \n",
      " Película 31: Strange Cargo, lanzada el 1963-06-19 con un retorno de 0.0. Sus costos=0.0 USD y ganancias=0.0 USD \n",
      " Película 32: The Rack, lanzada el 1947-08-28 con un retorno de 0.0. Sus costos=0.0 USD y ganancias=0.0 USD \n",
      " Película 33: After the Thin Man, lanzada el 1941-05-23 con un retorno de 0.0. Sus costos=0.0 USD y ganancias=0.0 USD \n",
      " Película 34: Love Crazy, lanzada el 1993-03-04 con un retorno de 0.0. Sus costos=0.0 USD y ganancias=0.0 USD \n",
      " Película 35: Bad Day at Black Rock, lanzada el 1991-11-01 con un retorno de 2.980330448465775. Sus costos=1271000.0 USD y ganancias=3788000.0 USD \n",
      " Película 36: I Love You Again, lanzada el 1961-05-17 con un retorno de 0.0. Sus costos=0.0 USD y ganancias=0.0 USD \n",
      " Película 37: Battleground, lanzada el 1936-08-01 con un retorno de 0.0. Sus costos=0.0 USD y ganancias=0.0 USD \n",
      " Película 38: The Divorcee, lanzada el 1949-12-14 con un retorno de 0.0. Sus costos=340.0 USD y ganancias=0.0 USD \n",
      " Película 39: Blackboard Jungle, lanzada el 1970-02-09 con un retorno de 0.0. Sus costos=0.0 USD y ganancias=0.0 USD \n",
      " Película 40: Northwest Passage, lanzada el 1939-06-30 con un retorno de 0.0. Sus costos=0.0 USD y ganancias=0.0 USD \n",
      " Película 41: The Picture of Dorian Gray, lanzada el 1960-03-31 con un retorno de 0.0. Sus costos=0.0 USD y ganancias=0.0 USD \n",
      " Película 42: Anna Christie, lanzada el 1954-07-03 con un retorno de 0.0. Sus costos=0.0 USD y ganancias=0.0 USD \n",
      " Película 43: The Clock, lanzada el 2002-05-10 con un retorno de 0.0. Sus costos=0.0 USD y ganancias=0.0 USD \n",
      " Película 44: Lassie Come Home, lanzada el 1960-11-04 con un retorno de 0.0. Sus costos=0.0 USD y ganancias=0.0 USD \n",
      " Película 45: The Mask of Fu Manchu, lanzada el 1962-05-01 con un retorno de 0.0. Sus costos=0.0 USD y ganancias=0.0 USD \n",
      " Película 46: He Who Gets Slapped, lanzada el 1924-12-04 con un retorno de 0.0. Sus costos=172000.0 USD y ganancias=0.0 USD \n",
      " Película 47: Greed, lanzada el 1927-06-04 con un retorno de 0.0. Sus costos=546883.0 USD y ganancias=0.0 USD \n",
      " Película 48: The Crowd, lanzada el 1929-06-05 con un retorno de 0.0. Sus costos=0.0 USD y ganancias=0.0 USD \n",
      " Película 49: The Champ, lanzada el 1933-12-01 con un retorno de 0.0. Sus costos=0.0 USD y ganancias=0.0 USD \n",
      " Película 50: Rasputin and the Empress, lanzada el 1932-06-24 con un retorno de 0.0. Sus costos=0.0 USD y ganancias=0.0 USD \n",
      " Película 51: The Barretts of Wimpole Street, lanzada el 1934-11-02 con un retorno de 0.0. Sus costos=0.0 USD y ganancias=0.0 USD \n",
      " Película 52: The Merry Widow, lanzada el 1935-04-26 con un retorno de 0.0. Sus costos=0.0 USD y ganancias=0.0 USD \n",
      " Película 53: Mark of the Vampire, lanzada el 1936-10-09 con un retorno de 0.0. Sus costos=305177.0 USD y ganancias=0.0 USD \n",
      " Película 54: Fury, lanzada el 1936-05-17 con un retorno de 0.0. Sus costos=0.0 USD y ganancias=0.0 USD \n",
      " Película 55: Libeled Lady, lanzada el 1936-03-18 con un retorno de 0.0. Sus costos=0.0 USD y ganancias=0.0 USD \n",
      " Película 56: Wife vs. Secretary, lanzada el 1937-11-25 con un retorno de 0.0. Sus costos=0.0 USD y ganancias=0.0 USD \n",
      " Película 57: Camille, lanzada el 1937-09-03 con un retorno de 0.0. Sus costos=0.0 USD y ganancias=0.0 USD \n",
      " Película 58: Captains Courageous, lanzada el 1937-10-08 con un retorno de 0.0. Sus costos=1645000.0 USD y ganancias=0.0 USD \n",
      " Película 59: The Shopworn Angel, lanzada el 1939-10-13 con un retorno de 0.0. Sus costos=0.0 USD y ganancias=0.0 USD \n",
      " Película 60: Boom Town, lanzada el 1941-12-02 con un retorno de 4.586. Sus costos=2000000.0 USD y ganancias=9172000.0 USD \n",
      " Película 61: A Guy Named Joe, lanzada el 1943-01-01 con un retorno de 2.041492196421774. Sus costos=2627000.0 USD y ganancias=5363000.0 USD \n",
      " Película 62: The Heavenly Body, lanzada el 1944-03-30 con un retorno de 0.0. Sus costos=0.0 USD y ganancias=0.0 USD \n",
      " Película 63: The White Cliffs of Dover, lanzada el 1945-04-30 con un retorno de 0.0. Sus costos=0.0 USD y ganancias=0.0 USD \n",
      " Película 64: Easter Parade, lanzada el 1948-03-04 con un retorno de 0.0. Sus costos=0.0 USD y ganancias=0.0 USD \n",
      " Película 65: The Pirate, lanzada el 1949-01-01 con un retorno de 0.798918918918919. Sus costos=3700000.0 USD y ganancias=2956000.0 USD \n",
      " Película 66: In the Good Old Summertime, lanzada el 1950-05-17 con un retorno de 0.0. Sus costos=3400000.0 USD y ganancias=0.0 USD \n",
      " Película 67: Summer Stock, lanzada el 1952-11-14 con un retorno de 0.0. Sus costos=0.0 USD y ganancias=0.0 USD \n",
      " Película 68: The Prisoner of Zenda, lanzada el 1953-10-30 con un retorno de 0.0. Sus costos=0.0 USD y ganancias=0.0 USD \n",
      " Película 69: The Cobweb, lanzada el 1955-09-30 con un retorno de 0.0. Sus costos=0.0 USD y ganancias=0.0 USD \n",
      " Película 70: Boys Town, lanzada el 1991-06-08 con un retorno de 0.0. Sus costos=0.0 USD y ganancias=0.0 USD \n",
      " Película 71: The Mortal Storm, lanzada el 1933-06-24 con un retorno de 0.0. Sus costos=0.0 USD y ganancias=0.0 USD \n",
      " Película 72: Girl Crazy, lanzada el 2003-01-18 con un retorno de 0.0. Sus costos=0.0 USD y ganancias=0.0 USD \n",
      " Película 73: Waterloo Bridge, lanzada el 1963-12-19 con un retorno de 0.0. Sus costos=0.0 USD y ganancias=0.0 USD \n",
      " Película 74: Blossoms in the Dust, lanzada el 1978-03-08 con un retorno de 0.0. Sus costos=0.0 USD y ganancias=0.0 USD \n",
      " Película 75: San Francisco, lanzada el 1939-11-11 con un retorno de 4.056153846153846. Sus costos=1300000.0 USD y ganancias=5273000.0 USD \n",
      " Película 76: The Human Comedy, lanzada el 1959-10-21 con un retorno de 0.0. Sus costos=0.0 USD y ganancias=0.0 USD \n",
      " Película 77: Babes in Arms, lanzada el 1979-02-09 con un retorno de 0.0. Sus costos=0.0 USD y ganancias=0.0 USD \n",
      " Película 78: Somebody Up There Likes Me, lanzada el 2004-11-02 con un retorno de 1.75. Sus costos=1920000.0 USD y ganancias=3360000.0 USD \n",
      " Película 79: Father's Little Dividend, lanzada el 1938-09-30 con un retorno de 0.0. Sus costos=0.0 USD y ganancias=0.0 USD \n",
      " Película 80: At the Circus, lanzada el 2005-06-28 con un retorno de 0.0. Sus costos=0.0 USD y ganancias=0.0 USD \n",
      " Película 81: Broadway Melody of 1940, lanzada el 1966-12-16 con un retorno de 0.0. Sus costos=0.0 USD y ganancias=0.0 USD \n",
      " Película 82: The Last of Mrs. Cheyney, lanzada el 2002-08-15 con un retorno de 0.0. Sus costos=0.0 USD y ganancias=0.0 USD \n",
      " Película 83: Go West, lanzada el 1964-12-19 con un retorno de 0.0. Sus costos=0.0 USD y ganancias=0.0 USD \n",
      " Película 84: Evelyn Prentice, lanzada el 1997-04-25 con un retorno de 0.0. Sus costos=0.0 USD y ganancias=0.0 USD \n",
      " Película 85: Tarzan the Ape Man, lanzada el 1955-09-09 con un retorno de 0.0. Sus costos=0.0 USD y ganancias=0.0 USD \n",
      " Película 86: Tarzan and His Mate, lanzada el 1975-10-08 con un retorno de 0.0. Sus costos=95.0 USD y ganancias=0.0 USD \n",
      " Película 87: Ziegfeld Follies, lanzada el 1938-10-29 con un retorno de 0.0. Sus costos=0.0 USD y ganancias=0.0 USD \n",
      " Película 88: David Copperfield, lanzada el 2004-11-20 con un retorno de 0.0. Sus costos=0.0 USD y ganancias=0.0 USD \n",
      " Película 89: Hallelujah, lanzada el 1983-12-22 con un retorno de 0.0. Sus costos=0.0 USD y ganancias=0.0 USD \n",
      " Película 90: A Woman's Face, lanzada el 2004-09-17 con un retorno de 0.0. Sus costos=0.0 USD y ganancias=0.0 USD \n",
      " Película 91: The Big House, lanzada el 2006-01-18 con un retorno de 0.0. Sus costos=0.0 USD y ganancias=0.0 USD \n",
      " Película 92: The Naked Spur, lanzada el 2005-09-05 con un retorno de 0.0. Sus costos=0.0 USD y ganancias=0.0 USD \n",
      " Película 93: Mata Hari, lanzada el 2006-05-03 con un retorno de 3.991039426523298. Sus costos=558000.0 USD y ganancias=2227000.0 USD \n",
      " Película 94: The Ace of Hearts, lanzada el 2006-07-21 con un retorno de 0.0. Sus costos=0.0 USD y ganancias=0.0 USD \n",
      " Película 95: Test Pilot, lanzada el 2006-06-01 con un retorno de 0.0. Sus costos=0.0 USD y ganancias=0.0 USD \n",
      " Película 96: Susan Lenox (Her Fall and Rise), lanzada el 2005-09-09 con un retorno de 0.0. Sus costos=0.0 USD y ganancias=0.0 USD \n",
      " Película 97: The Bribe, lanzada el 2005-06-02 con un retorno de 0.0. Sus costos=0.0 USD y ganancias=0.0 USD \n",
      " Película 98: China Seas, lanzada el 2006-07-28 con un retorno de 0.0. Sus costos=0.0 USD y ganancias=0.0 USD \n",
      " Película 99: Good News, lanzada el 1921-12-31 con un retorno de 0.0. Sus costos=0.0 USD y ganancias=0.0 USD \n",
      " Película 100: State of the Union, lanzada el 2006-01-01 con un retorno de 0.0. Sus costos=0.0 USD y ganancias=0.0 USD \n",
      " Película 101: Min and Bill, lanzada el 1960-11-14 con un retorno de 0.0. Sus costos=0.0 USD y ganancias=0.0 USD \n",
      " Película 102: Red-Headed Woman, lanzada el 1961-12-23 con un retorno de 0.0. Sus costos=0.0 USD y ganancias=0.0 USD \n",
      " Película 103: Mad Love, lanzada el 2006-09-22 con un retorno de 0.0. Sus costos=0.0 USD y ganancias=0.0 USD \n",
      " Película 104: Red Dust, lanzada el 2007-05-17 con un retorno de 0.0. Sus costos=0.0 USD y ganancias=0.0 USD \n",
      " Película 105: Laugh, Clown, Laugh, lanzada el 2001-02-21 con un retorno de 0.0. Sus costos=293000.0 USD y ganancias=0.0 USD \n",
      " Película 106: Keeper of the Flame, lanzada el 2008-02-28 con un retorno de 0.0. Sus costos=0.0 USD y ganancias=0.0 USD \n",
      " Película 107: Tarzan Finds a Son!, lanzada el 2006-09-12 con un retorno de 0.0. Sus costos=0.0 USD y ganancias=0.0 USD \n",
      " Película 108: West of Zanzibar, lanzada el 1984-01-10 con un retorno de 3.555984555984556. Sus costos=259000.0 USD y ganancias=921000.0 USD \n",
      " Película 109: Tell It to the Marines, lanzada el 1974-10-25 con un retorno de 0.0. Sus costos=0.0 USD y ganancias=0.0 USD \n",
      " Película 110: The Unholy Three, lanzada el 1972-01-01 con un retorno de 6.834951456310679. Sus costos=103000.0 USD y ganancias=704000.0 USD \n",
      " Película 111: The Devil-Doll, lanzada el 2008-05-07 con un retorno de 0.0. Sus costos=0.0 USD y ganancias=0.0 USD \n",
      " Película 112: Mr. Wu, lanzada el 1942-12-25 con un retorno de 0.0. Sus costos=0.0 USD y ganancias=0.0 USD \n",
      " Película 113: The Blackbird, lanzada el 1988-02-14 con un retorno de 0.0. Sus costos=0.0 USD y ganancias=0.0 USD \n",
      " Película 114: Manhattan Melodrama, lanzada el 1988-01-01 con un retorno de 0.0. Sus costos=0.0 USD y ganancias=0.0 USD \n",
      " Película 115: Private Lives, lanzada el 2006-11-03 con un retorno de 0.0. Sus costos=0.0 USD y ganancias=0.0 USD \n",
      " Película 116: Escape from Fort Bravo, lanzada el 2003-08-24 con un retorno de 0.0. Sus costos=0.0 USD y ganancias=0.0 USD \n",
      " Película 117: The Smart Set, lanzada el 1964-06-28 con un retorno de 0.0. Sus costos=0.0 USD y ganancias=0.0 USD \n",
      " Película 118: Show People, lanzada el 1941-07-07 con un retorno de 0.0. Sus costos=0.0 USD y ganancias=0.0 USD \n",
      " Película 119: A Free Soul, lanzada el 2008-03-25 con un retorno de 0.0. Sus costos=0.0 USD y ganancias=0.0 USD \n",
      " Película 120: Madame Bovary, lanzada el 1975-08-28 con un retorno de 0.0. Sus costos=0.0 USD y ganancias=0.0 USD \n",
      " Película 121: Mystery Street, lanzada el 1957-04-17 con un retorno de 0.0. Sus costos=0.0 USD y ganancias=0.0 USD \n",
      " Película 122: Vengeance Valley, lanzada el 1997-10-28 con un retorno de 0.0. Sus costos=0.0 USD y ganancias=0.0 USD \n",
      " Película 123: Operator 13, lanzada el 1960-02-19 con un retorno de 0.0. Sus costos=0.0 USD y ganancias=0.0 USD \n",
      " Película 124: Night Must Fall, lanzada el 2010-04-28 con un retorno de 0.0. Sus costos=0.0 USD y ganancias=0.0 USD \n",
      " Película 125: Romeo and Juliet, lanzada el 1990-01-24 con un retorno de 0.0. Sus costos=0.0 USD y ganancias=0.0 USD \n",
      " Película 126: Tortilla Flat, lanzada el 2010-06-16 con un retorno de 0.0. Sus costos=0.0 USD y ganancias=0.0 USD \n",
      " Película 127: Three Little Words, lanzada el 2010-01-25 con un retorno de 0.0. Sus costos=0.0 USD y ganancias=0.0 USD \n",
      " Película 128: A Woman of Affairs, lanzada el 1942-04-24 con un retorno de 0.0. Sus costos=383000.0 USD y ganancias=0.0 USD \n",
      " Película 129: Sweethearts, lanzada el 2007-05-15 con un retorno de 0.0. Sus costos=0.0 USD y ganancias=0.0 USD \n",
      " Película 130: The Fastest Gun Alive, lanzada el 2006-08-10 con un retorno de 0.0. Sus costos=0.0 USD y ganancias=0.0 USD \n",
      " Película 131: The Patsy, lanzada el 2008-11-11 con un retorno de 0.0. Sus costos=0.0 USD y ganancias=0.0 USD \n",
      " Película 132: Peg o' My Heart, lanzada el 1934-12-13 con un retorno de 0.0. Sus costos=0.0 USD y ganancias=0.0 USD \n",
      " Película 133: Downstairs, lanzada el 1970-03-14 con un retorno de 0.0. Sus costos=0.0 USD y ganancias=0.0 USD \n",
      " Película 134: Five and Ten, lanzada el 1969-01-01 con un retorno de 0.0. Sus costos=0.0 USD y ganancias=0.0 USD \n",
      " Película 135: Treasure Island, lanzada el 2009-04-25 con un retorno de 0.0. Sus costos=0.0 USD y ganancias=0.0 USD \n",
      " Película 136: Comrade X, lanzada el 1949-08-01 con un retorno de 0.0. Sus costos=0.0 USD y ganancias=0.0 USD \n",
      " Película 137: Conquest, lanzada el 1982-10-15 con un retorno de 0.0. Sus costos=0.0 USD y ganancias=0.0 USD \n",
      " Película 138: Design for Scandal, lanzada el 1955-08-14 con un retorno de 0.0. Sus costos=0.0 USD y ganancias=0.0 USD \n",
      " Película 139: Broadway Melody of 1936, lanzada el 1949-06-02 con un retorno de 0.0. Sus costos=0.0 USD y ganancias=0.0 USD \n",
      " Película 140: Remote Control, lanzada el 2010-01-14 con un retorno de 0.0. Sus costos=0.0 USD y ganancias=0.0 USD \n",
      " Película 141: Suzy, lanzada el 1963-05-29 con un retorno de 0.0. Sus costos=0.0 USD y ganancias=0.0 USD \n",
      " Película 142: The Actress, lanzada el 2007-11-09 con un retorno de 0.0. Sus costos=0.0 USD y ganancias=0.0 USD \n",
      " Película 143: Neptune's Daughter, lanzada el 2005-01-01 con un retorno de 0.0. Sus costos=0.0 USD y ganancias=0.0 USD \n",
      " Película 144: Madam Satan, lanzada el 2005-08-24 con un retorno de 0.0. Sus costos=0.0 USD y ganancias=0.0 USD \n",
      " Película 145: The Story of Three Loves, lanzada el 1997-05-09 con un retorno de 0.0. Sus costos=0.0 USD y ganancias=0.0 USD \n",
      " Película 146: The Student Prince in Old Heidelberg, lanzada el 2010-04-09 con un retorno de 0.0. Sus costos=0.0 USD y ganancias=0.0 USD \n",
      " Película 147: Billy the Kid, lanzada el 1941-11-01 con un retorno de 0.0. Sus costos=0.0 USD y ganancias=0.0 USD \n",
      " Película 148: Riffraff, lanzada el 1956-06-14 con un retorno de 0.0. Sus costos=0.0 USD y ganancias=0.0 USD \n",
      " Película 149: The Great Waltz, lanzada el 2008-09-12 con un retorno de 0.0. Sus costos=0.0 USD y ganancias=0.0 USD \n",
      " Película 150: Stars in My Crown, lanzada el 1968-05-17 con un retorno de 0.0. Sus costos=0.0 USD y ganancias=0.0 USD \n",
      " Película 151: Spring Fever, lanzada el 2007-01-11 con un retorno de 0.0. Sus costos=0.0 USD y ganancias=0.0 USD \n",
      " Película 152: The Gorgeous Hussy, lanzada el 1979-05-01 con un retorno de 1.804289544235925. Sus costos=1119000.0 USD y ganancias=2019000.0 USD \n",
      " Película 153: Of Human Hearts, lanzada el 2002-04-10 con un retorno de 0.0. Sus costos=0.0 USD y ganancias=0.0 USD \n",
      " Película 154: They Gave Him a Gun, lanzada el 1969-03-17 con un retorno de 0.0. Sus costos=0.0 USD y ganancias=0.0 USD \n",
      " Película 155: Rage in Heaven, lanzada el 1984-03-12 con un retorno de 0.0. Sus costos=0.0 USD y ganancias=0.0 USD \n",
      " Película 156: Emma, lanzada el 2011-02-16 con un retorno de 0.0. Sus costos=0.0 USD y ganancias=0.0 USD \n",
      " Película 157: Mannequin, lanzada el 2010-09-24 con un retorno de 0.0. Sus costos=0.0 USD y ganancias=0.0 USD \n",
      " Película 158: Smilin' Through, lanzada el 2005-05-31 con un retorno de 0.0. Sus costos=0.0 USD y ganancias=0.0 USD \n",
      " Película 159: Invitation to the Dance, lanzada el 2011-05-05 con un retorno de 0.0. Sus costos=0.0 USD y ganancias=0.0 USD \n",
      " Película 160: The Sin of Madelon Claudet, lanzada el 2009-08-27 con un retorno de 0.0. Sus costos=0.0 USD y ganancias=0.0 USD \n",
      " Película 161: Gabriel Over the White House, lanzada el 1945-04-07 con un retorno de 0.0. Sus costos=0.0 USD y ganancias=0.0 USD \n",
      " Película 162: When Ladies Meet, lanzada el 2009-11-10 con un retorno de 0.0. Sus costos=0.0 USD y ganancias=0.0 USD \n",
      " Película 163: Possessed, lanzada el 1951-04-20 con un retorno de 0.0. Sus costos=0.0 USD y ganancias=0.0 USD \n",
      " Película 164: The Mysterious Lady, lanzada el 2009-03-14 con un retorno de 1.6350148367952522. Sus costos=337.0 USD y ganancias=551.0 USD \n",
      " Película 165: Souls for Sale, lanzada el 2009-11-18 con un retorno de 0.0. Sus costos=0.0 USD y ganancias=0.0 USD \n",
      " Película 166: Escape, lanzada el 1990-03-25 con un retorno de 0.0. Sus costos=0.0 USD y ganancias=0.0 USD \n",
      " Película 167: Payment Deferred, lanzada el 2011-06-24 con un retorno de 0.0. Sus costos=0.0 USD y ganancias=0.0 USD \n",
      " Película 168: The Toast of New Orleans, lanzada el 1999-09-09 con un retorno de 0.0. Sus costos=0.0 USD y ganancias=0.0 USD \n",
      " Película 169: Bathing Beauty, lanzada el 1967-05-31 con un retorno de 2.919102075391783. Sus costos=2361000.0 USD y ganancias=6892000.0 USD \n",
      " Película 170: Kongo, lanzada el 2009-11-19 con un retorno de 0.0. Sus costos=0.0 USD y ganancias=0.0 USD \n",
      " Película 171: My Man and I, lanzada el 2010-02-04 con un retorno de 0.0. Sus costos=0.0 USD y ganancias=0.0 USD \n",
      " Película 172: The Great Sinner, lanzada el 2010-12-21 con un retorno de 0.0. Sus costos=0.0 USD y ganancias=0.0 USD \n",
      " Película 173: Guilty Hands, lanzada el 2011-10-14 con un retorno de 0.0. Sus costos=0.0 USD y ganancias=0.0 USD \n",
      " Película 174: Dynamite, lanzada el 2006-11-26 con un retorno de 0.0. Sus costos=0.0 USD y ganancias=0.0 USD \n",
      " Película 175: Kismet, lanzada el 2012-08-28 con un retorno de 0.0. Sus costos=0.0 USD y ganancias=0.0 USD \n",
      " Película 176: La Bohème, lanzada el 1982-11-02 con un retorno de 0.0. Sus costos=0.0 USD y ganancias=0.0 USD \n",
      " Película 177: The Circle, lanzada el 2004-12-12 con un retorno de 0.0. Sus costos=0.0 USD y ganancias=0.0 USD \n",
      " Película 178: Stand Up and Fight, lanzada el 2012-06-22 con un retorno de 0.0. Sus costos=0.0 USD y ganancias=0.0 USD \n",
      " Película 179: Fast Life, lanzada el 1966-10-26 con un retorno de 0.0. Sus costos=0.0 USD y ganancias=0.0 USD \n",
      " Película 180: Westward the Women, lanzada el 2005-04-14 con un retorno de 0.0. Sus costos=0.0 USD y ganancias=0.0 USD \n",
      " Película 181: The Kiss, lanzada el 2013-03-24 con un retorno de 0.0. Sus costos=0.0 USD y ganancias=0.0 USD \n",
      " Película 182: After Office Hours, lanzada el 2013-05-16 con un retorno de 0.0. Sus costos=0.0 USD y ganancias=0.0 USD \n",
      " Película 183: An American Romance, lanzada el 2009-04-19 con un retorno de 0.0. Sus costos=3.0 USD y ganancias=0.0 USD \n",
      " Película 184: Ah, Wilderness!, lanzada el 2013-03-13 con un retorno de 0.0. Sus costos=0.0 USD y ganancias=0.0 USD \n",
      " Película 185: Nick Carter, Master Detective, lanzada el 1957-12-01 con un retorno de 0.0. Sus costos=0.0 USD y ganancias=0.0 USD \n",
      " Película 186: A Life of Her Own, lanzada el 1968-05-01 con un retorno de 0.0. Sus costos=0.0 USD y ganancias=0.0 USD \n",
      " Película 187: The Wet Parade, lanzada el 2013-09-13 con un retorno de 0.0. Sus costos=0.0 USD y ganancias=0.0 USD \n",
      " Película 188: Speedway, lanzada el 2013-07-19 con un retorno de 0.0. Sus costos=0.0 USD y ganancias=0.0 USD \n",
      " Película 189: Faithless, lanzada el 2011-01-01 con un retorno de 0.0. Sus costos=0.0 USD y ganancias=0.0 USD \n",
      " Película 190: Bewitched, lanzada el 1961-03-03 con un retorno de 0.0. Sus costos=0.0 USD y ganancias=0.0 USD \n",
      " Película 191: The Boob, lanzada el 2005-01-01 con un retorno de 0.0. Sus costos=0.0 USD y ganancias=0.0 USD \n",
      " Película 192: Blondie of the Follies, lanzada el 2010-04-02 con un retorno de 0.0. Sus costos=0.0 USD y ganancias=0.0 USD \n",
      " Película 193: Our Modern Maidens, lanzada el 1966-03-16 con un retorno de 0.0. Sus costos=0.0 USD y ganancias=0.0 USD \n",
      " Película 194: Across to Singapore, lanzada el 2001-03-04 con un retorno de 2.055172413793104. Sus costos=290000.0 USD y ganancias=596000.0 USD \n",
      " Película 195: Angels in the Outfield, lanzada el 2014-04-20 con un retorno de 0.0. Sus costos=0.0 USD y ganancias=0.0 USD \n",
      " Película 196: Our Blushing Brides, lanzada el 2013-09-07 con un retorno de 0.0. Sus costos=0.0 USD y ganancias=0.0 USD \n",
      " Película 197: Arsène Lupin, lanzada el 2014-04-16 con un retorno de 0.0. Sus costos=0.0 USD y ganancias=0.0 USD \n",
      " Película 198: Bright Road, lanzada el 2011-09-17 con un retorno de 0.0. Sus costos=0.0 USD y ganancias=0.0 USD \n",
      " Película 199: Broadway Rhythm, lanzada el 2013-05-11 con un retorno de 0.0. Sus costos=0.0 USD y ganancias=0.0 USD \n",
      " Película 200: Broadway Serenade, lanzada el 2004-03-23 con un retorno de 0.0. Sus costos=0.0 USD y ganancias=0.0 USD \n",
      " Película 201: Paid, lanzada el 2014-09-18 con un retorno de 0.0. Sus costos=0.0 USD y ganancias=0.0 USD \n",
      " Película 202: Best Foot Forward, lanzada el 1935-11-02 con un retorno de 0.0. Sus costos=0.0 USD y ganancias=0.0 USD \n",
      " Película 203: The Son-Daughter, lanzada el 2003-02-07 con un retorno de 0.0. Sus costos=0.0 USD y ganancias=0.0 USD \n",
      " Película 204: Wild Oranges, lanzada el 2010-10-22 con un retorno de 0.0. Sus costos=0.0 USD y ganancias=0.0 USD \n",
      " Película 205: Rendezvous, lanzada el 2009-03-01 con un retorno de 0.0. Sus costos=0.0 USD y ganancias=0.0 USD \n",
      " Película 206: Arsène Lupin Returns, lanzada el 1999-01-01 con un retorno de 0.0. Sus costos=0.0 USD y ganancias=0.0 USD \n",
      " Película 207: A Lady of Chance, lanzada el 2012-08-24 con un retorno de 0.0. Sus costos=0.0 USD y ganancias=0.0 USD \n",
      " Película 208: Chained, lanzada el 1961-11-26 con un retorno de 0.0. Sus costos=0.0 USD y ganancias=0.0 USD \n",
      " Película 209: Calling Dr. Gillespie, lanzada el 2011-04-02 con un retorno de 0.0. Sus costos=0.0 USD y ganancias=0.0 USD \n",
      " Película 210: The Emperor's Candlesticks, lanzada el 1952-06-20 con un retorno de 0.0. Sus costos=0.0 USD y ganancias=0.0 USD \n",
      " Película 211: Courage of Lassie, lanzada el 1995-12-19 con un retorno de 0.0. Sus costos=0.0 USD y ganancias=0.0 USD \n",
      " Película 212: Navy Blues, lanzada el 2009-10-25 con un retorno de 0.0. Sus costos=0.0 USD y ganancias=0.0 USD \n",
      " Película 213: Dance, Fools, Dance, lanzada el 2011-04-26 con un retorno de 0.0. Sus costos=0.0 USD y ganancias=0.0 USD \n",
      " Película 214: Romance, lanzada el 1990-11-29 con un retorno de 0.0. Sus costos=0.0 USD y ganancias=0.0 USD \n",
      " Película 215: Devil's Doorway, lanzada el 1953-12-25 con un retorno de 0.0. Sus costos=0.0 USD y ganancias=0.0 USD \n",
      " Película 216: Exit Smiling, lanzada el 1995-01-01 con un retorno de 0.0. Sus costos=0.0 USD y ganancias=0.0 USD \n",
      " Película 217: Free and Easy, lanzada el 2014-09-27 con un retorno de 0.0. Sus costos=0.0 USD y ganancias=0.0 USD \n",
      " Película 218: The Get-Away, lanzada el 1947-02-13 con un retorno de 0.0. Sus costos=0.0 USD y ganancias=0.0 USD \n",
      " Película 219: The Man in Possession, lanzada el 1930-02-02 con un retorno de 0.0. Sus costos=0.0 USD y ganancias=0.0 USD \n",
      " Película 220: Looking Forward, lanzada el 2003-12-23 con un retorno de 0.0. Sus costos=0.0 USD y ganancias=0.0 USD \n",
      " Película 221: Passion Flower, lanzada el 2008-02-05 con un retorno de 0.0. Sus costos=0.0 USD y ganancias=0.0 USD \n",
      " Película 222: Wild Orchids, lanzada el 2008-02-08 con un retorno de 0.0. Sus costos=322000.0 USD y ganancias=0.0 USD \n",
      " Película 223: Talk About a Stranger, lanzada el 2013-10-16 con un retorno de 0.0. Sus costos=0.0 USD y ganancias=0.0 USD \n",
      " Película 224: The Opposite Sex, lanzada el 2006-08-25 con un retorno de 0.0. Sus costos=0.0 USD y ganancias=0.0 USD \n",
      " Película 225: Saratoga, lanzada el 1971-05-12 con un retorno de 0.0. Sus costos=0.0 USD y ganancias=0.0 USD \n",
      " Película 226: Mockery, lanzada el 2001-09-02 con un retorno de 0.0. Sus costos=0.0 USD y ganancias=0.0 USD \n",
      " Película 227: Man-Proof, lanzada el 2001-04-24 con un retorno de 0.0. Sus costos=0.0 USD y ganancias=0.0 USD \n",
      " Película 228: The Last Gangster, lanzada el 1928-02-15 con un retorno de 0.0. Sus costos=0.0 USD y ganancias=0.0 USD \n",
      " Película 229: The Girl from Missouri, lanzada el 1971-01-16 con un retorno de 0.0. Sus costos=0.0 USD y ganancias=0.0 USD \n",
      " Película 230: Let Us Be Gay, lanzada el 1971-08-06 con un retorno de 0.0. Sus costos=0.0 USD y ganancias=0.0 USD \n",
      " Película 231: Speak Easily, lanzada el 2002-05-21 con un retorno de 0.0. Sus costos=0.0 USD y ganancias=0.0 USD \n",
      " Película 232: Rosalie, lanzada el 2011-07-19 con un retorno de 0.0. Sus costos=0.0 USD y ganancias=0.0 USD \n",
      " Película 233: Rose Marie, lanzada el 1966-12-18 con un retorno de 0.0. Sus costos=0.0 USD y ganancias=0.0 USD \n",
      " Película 234: Whistling in Dixie, lanzada el 1971-05-28 con un retorno de 0.0. Sus costos=0.0 USD y ganancias=0.0 USD \n",
      " Película 235: Sadie McKee, lanzada el 1968-08-21 con un retorno de 0.0. Sus costos=0.0 USD y ganancias=0.0 USD \n",
      " Película 236: The Guardsman, lanzada el 1956-03-21 con un retorno de 0.0. Sus costos=0.0 USD y ganancias=0.0 USD \n",
      " Película 237: Their Own Desire, lanzada el 1934-09-22 con un retorno de 0.0. Sus costos=0.0 USD y ganancias=0.0 USD \n",
      " Película 238: Laughing Sinners, lanzada el 1942-06-11 con un retorno de 0.0. Sus costos=0.0 USD y ganancias=0.0 USD \n",
      " Película 239: Three Godfathers, lanzada el 2014-08-15 con un retorno de 0.0. Sus costos=0.0 USD y ganancias=0.0 USD \n",
      " Película 240: Life Begins for Andy Hardy, lanzada el 2010-10-15 con un retorno de 0.0. Sus costos=0.0 USD y ganancias=0.0 USD \n",
      " Película 241: The Cossacks, lanzada el 2012-01-01 con un retorno de 0.0. Sus costos=0.0 USD y ganancias=0.0 USD \n",
      " Película 242: Two Weeks with Love, lanzada el 1956-08-17 con un retorno de 0.0. Sus costos=0.0 USD y ganancias=0.0 USD \n",
      " Película 243: These Wilder Years, lanzada el 1994-08-13 con un retorno de 0.0. Sus costos=0.0 USD y ganancias=0.0 USD \n",
      " Película 244: The Bride Wore Red, lanzada el 1983-05-20 con un retorno de 0.0. Sus costos=0.0 USD y ganancias=0.0 USD \n",
      " Película 245: The Painted Hills, lanzada el 2013-02-12 con un retorno de 0.0. Sus costos=0.0 USD y ganancias=0.0 USD \n",
      " Película 246: Week-End at the Waldorf, lanzada el 1972-12-27 con un retorno de 0.0. Sus costos=0.0 USD y ganancias=0.0 USD \n",
      " Película 247: Today We Live, lanzada el 2013-08-10 con un retorno de 0.0. Sus costos=0.0 USD y ganancias=0.0 USD \n",
      " Película 248: Not So Dumb, lanzada el 2014-04-30 con un retorno de 0.0. Sus costos=0.0 USD y ganancias=0.0 USD \n",
      " Película 249: The Murder Man, lanzada el 2004-08-13 con un retorno de 0.0. Sus costos=0.0 USD y ganancias=0.0 USD \n",
      " Película 250: It's a Dog's Life, lanzada el 1970-01-01 con un retorno de 0.0. Sus costos=0.0 USD y ganancias=0.0 USD \n",
      " Película 251: The Show, lanzada el 2005-02-05 con un retorno de 0.0. Sus costos=0.0 USD y ganancias=0.0 USD \n",
      " Película 252: Her Cardboard Lover, lanzada el 1999-07-30 con un retorno de 0.0. Sus costos=0.0 USD y ganancias=0.0 USD \n",
      " Película 253: So This Is College, lanzada el 2015-08-28 con un retorno de 0.0. Sus costos=0.0 USD y ganancias=0.0 USD \n",
      " Película 254: Murder in the Private Car, lanzada el 2014-11-24 con un retorno de 0.0. Sus costos=0.0 USD y ganancias=0.0 USD \n",
      " Película 255: Bardelys the Magnificent, lanzada el 2006-01-01 con un retorno de 0.0. Sus costos=0.0 USD y ganancias=0.0 USD \n",
      " Película 256: The Bachelor Father, lanzada el 2015-01-22 con un retorno de 0.0. Sus costos=0.0 USD y ganancias=0.0 USD \n",
      " Película 257: Miracles For Sale, lanzada el 2013-01-19 con un retorno de 0.0. Sus costos=0.0 USD y ganancias=0.0 USD \n",
      " Película 258: Dr. Kildare Goes Home, lanzada el 1987-07-24 con un retorno de 0.0. Sus costos=0.0 USD y ganancias=0.0 USD \n",
      " Película 259: The Voice of Bugle Ann, lanzada el 2003-10-01 con un retorno de 0.0. Sus costos=0.0 USD y ganancias=0.0 USD \n",
      " Película 260: The Bad Man, lanzada el 2008-01-14 con un retorno de 0.0. Sus costos=0.0 USD y ganancias=0.0 USD \n",
      " Película 261: The Sea Bat, lanzada el 2012-11-15 con un retorno de 0.0. Sus costos=0.0 USD y ganancias=0.0 USD \n",
      " Película 262: The Lady of Scandal, lanzada el 2016-04-27 con un retorno de 0.0. Sus costos=0.0 USD y ganancias=0.0 USD \n",
      " Película 263: The Red Mill, lanzada el 2000-01-30 con un retorno de 0.0. Sus costos=0.0 USD y ganancias=0.0 USD \n",
      " Película 264: Judge Hardy and Son, lanzada el 2016-07-27 con un retorno de 0.0. Sus costos=0.0 USD y ganancias=0.0 USD \n",
      " Película 265: The Florodora Girl, lanzada el 1990-09-01 con un retorno de 0.0. Sus costos=0.0 USD y ganancias=0.0 USD \n",
      " Película 266: Nazi Agent, lanzada el 2016-02-18 con un retorno de 0.0. Sus costos=0.0 USD y ganancias=0.0 USD \n",
      " Película 267: Annie Laurie, lanzada el 2011-12-29 con un retorno de 0.0. Sus costos=0.0 USD y ganancias=0.0 USD \n",
      " Película 268: Love on the Run, lanzada el 1985-05-06 con un retorno de 0.0. Sus costos=0.0 USD y ganancias=0.0 USD \n",
      " Película 269: Love, lanzada el 2010-09-30 con un retorno de 0.0. Sus costos=0.0 USD y ganancias=0.0 USD \n",
      " \n"
     ]
    }
   ],
   "source": [
    "get_director('Cedric Gibbons')"
   ]
  },
  {
   "cell_type": "code",
   "execution_count": 132,
   "metadata": {},
   "outputs": [
    {
     "name": "stdout",
     "output_type": "stream",
     "text": [
      "El director Joe ranft ha obtenido un éxito de 44.16. Sus películas:\n",
      "Película 1: Toy Story, lanzada el 1995-10-30 con un retorno de 12.4518011. Sus costos=30000000 USD y ganancias=373554033.0 USD \n",
      " Película 2: Beauty and the Beast, lanzada el 1991-11-13 con un retorno de 15.09402212. Sus costos=25000000 USD y ganancias=377350553.0 USD \n",
      " Película 3: The Little Mermaid, lanzada el 1992-12-10 con un retorno de 5.5575. Sus costos=40000000 USD y ganancias=222300000.0 USD \n",
      " Película 4: The Rescuers Down Under, lanzada el 1978-03-10 con un retorno de 1.2504669267881152. Sus costos=37931000 USD y ganancias=47431461.0 USD \n",
      " Película 5: A Bug's Life, lanzada el 1998-01-16 con un retorno de 3.027157158333333. Sus costos=120000000 USD y ganancias=363258859.0 USD \n",
      " Película 6: The Brave Little Toaster, lanzada el 1987-01-16 con un retorno de 0.0. Sus costos=2000000 USD y ganancias=0.0 USD \n",
      " Película 7: Corpse Bride, lanzada el 2005-09-30 con un retorno de 2.929876525. Sus costos=40000000 USD y ganancias=117195061.0 USD \n",
      " Película 8: Cars, lanzada el 1996-10-17 con un retorno de 3.849859575. Sus costos=120000000 USD y ganancias=461983149.0 USD \n",
      " Película 9: Geri's Game, lanzada el 1995-01-01 con un retorno de 0.0. Sus costos=0 USD y ganancias=0.0 USD \n",
      " Película 10: Mater and the Ghostlight, lanzada el 2014-11-05 con un retorno de 0.0. Sus costos=0 USD y ganancias=0.0 USD \n",
      " \n"
     ]
    }
   ],
   "source": [
    "get_director('Joe Ranft')"
   ]
  }
 ],
 "metadata": {
  "kernelspec": {
   "display_name": "PI",
   "language": "python",
   "name": "python3"
  },
  "language_info": {
   "codemirror_mode": {
    "name": "ipython",
    "version": 3
   },
   "file_extension": ".py",
   "mimetype": "text/x-python",
   "name": "python",
   "nbconvert_exporter": "python",
   "pygments_lexer": "ipython3",
   "version": "3.11.0"
  },
  "orig_nbformat": 4
 },
 "nbformat": 4,
 "nbformat_minor": 2
}
