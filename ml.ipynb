{
 "cells": [
  {
   "cell_type": "code",
   "execution_count": 1,
   "metadata": {},
   "outputs": [],
   "source": [
    "import pandas as pd\n",
    "from sklearn.feature_extraction.text import TfidfVectorizer\n",
    "from sklearn.metrics.pairwise import cosine_similarity\n"
   ]
  },
  {
   "cell_type": "code",
   "execution_count": 2,
   "metadata": {},
   "outputs": [
    {
     "name": "stderr",
     "output_type": "stream",
     "text": [
      "C:\\Users\\clari\\AppData\\Local\\Temp\\ipykernel_3996\\3492386156.py:1: DtypeWarning: Columns (6) have mixed types. Specify dtype option on import or set low_memory=False.\n",
      "  movies = pd.read_csv('./ETL/movies_limpio.csv')\n"
     ]
    },
    {
     "data": {
      "text/plain": [
       "(45291, 23)"
      ]
     },
     "execution_count": 2,
     "metadata": {},
     "output_type": "execute_result"
    }
   ],
   "source": [
    "movies = pd.read_csv('./ETL/movies_limpio.csv')\n",
    "movies.shape"
   ]
  },
  {
   "cell_type": "code",
   "execution_count": 9,
   "metadata": {},
   "outputs": [],
   "source": [
    "recomendacion = movies[['title', 'overview', 'popularity']]  # elijo las columnas relevantes para el modelo\n",
    "recomendacion = recomendacion.dropna()  # elimino las filas que contienen valores nulos\n",
    "\n",
    "# Convierto la columna \"popularity\" a tipo float\n",
    "recomendacion['popularity'] = recomendacion['popularity'].astype(float)\n",
    "\n",
    "# Ordeno por popularidad en orden descendente \n",
    "# (ascending=False=547.488298 popularity alto)  y  (ascending=True=213.849907 popularity bajo)\n",
    "recomendacion = recomendacion.sort_values(by='popularity', ascending=False)\n",
    "recomendacion = recomendacion[recomendacion['popularity'] != 0]#saco los que son valor 0\n",
    "\n",
    "#filtro para achicar la muestra ya que ocupa mucho espacio al crear la matriz. \n",
    "# Dejando asi las peliculas con popularity > 10 (asi el usuario recibe una recomendacion de calidad)\n",
    "recomendacion_filtrado = recomendacion[recomendacion['popularity'] > 10]\n",
    "#print(recomendacion_filtrado)\n",
    "\n",
    "#reseteo el index para que al consultar una pelicula el index coincida con la totalidad de las peliculas filtradas\n",
    "recomendacion_filtrado=recomendacion_filtrado.reset_index()\n",
    "\n",
    "# Guardar en un archivo CSV\n",
    "#recomendacion_filtrado.to_csv('peliculas_filtradas.csv', index=False)\n",
    "\n",
    "\n"
   ]
  },
  {
   "cell_type": "code",
   "execution_count": 10,
   "metadata": {},
   "outputs": [
    {
     "data": {
      "text/plain": [
       "(3016, 4)"
      ]
     },
     "execution_count": 10,
     "metadata": {},
     "output_type": "execute_result"
    }
   ],
   "source": [
    "recomendacion_filtrado.shape"
   ]
  },
  {
   "cell_type": "code",
   "execution_count": 15,
   "metadata": {},
   "outputs": [],
   "source": [
    "recomendacion_filtrado.to_csv('peliculas_filtradas.csv', index=False)"
   ]
  },
  {
   "cell_type": "code",
   "execution_count": 16,
   "metadata": {},
   "outputs": [
    {
     "data": {
      "text/html": [
       "<div>\n",
       "<style scoped>\n",
       "    .dataframe tbody tr th:only-of-type {\n",
       "        vertical-align: middle;\n",
       "    }\n",
       "\n",
       "    .dataframe tbody tr th {\n",
       "        vertical-align: top;\n",
       "    }\n",
       "\n",
       "    .dataframe thead th {\n",
       "        text-align: right;\n",
       "    }\n",
       "</style>\n",
       "<table border=\"1\" class=\"dataframe\">\n",
       "  <thead>\n",
       "    <tr style=\"text-align: right;\">\n",
       "      <th></th>\n",
       "      <th>title</th>\n",
       "      <th>overview</th>\n",
       "      <th>popularity</th>\n",
       "    </tr>\n",
       "  </thead>\n",
       "  <tbody>\n",
       "    <tr>\n",
       "      <th>0</th>\n",
       "      <td>Minions</td>\n",
       "      <td>Minions Stuart, Kevin and Bob are recruited by...</td>\n",
       "      <td>547.488298</td>\n",
       "    </tr>\n",
       "    <tr>\n",
       "      <th>1</th>\n",
       "      <td>Wonder Woman</td>\n",
       "      <td>An Amazon princess comes to the world of Man t...</td>\n",
       "      <td>294.337037</td>\n",
       "    </tr>\n",
       "    <tr>\n",
       "      <th>2</th>\n",
       "      <td>Beauty and the Beast</td>\n",
       "      <td>A live-action adaptation of Disney's version o...</td>\n",
       "      <td>287.253654</td>\n",
       "    </tr>\n",
       "    <tr>\n",
       "      <th>3</th>\n",
       "      <td>Baby Driver</td>\n",
       "      <td>After being coerced into working for a crime b...</td>\n",
       "      <td>228.032744</td>\n",
       "    </tr>\n",
       "    <tr>\n",
       "      <th>4</th>\n",
       "      <td>Big Hero 6</td>\n",
       "      <td>The special bond that develops between plus-si...</td>\n",
       "      <td>213.849907</td>\n",
       "    </tr>\n",
       "    <tr>\n",
       "      <th>...</th>\n",
       "      <td>...</td>\n",
       "      <td>...</td>\n",
       "      <td>...</td>\n",
       "    </tr>\n",
       "    <tr>\n",
       "      <th>3011</th>\n",
       "      <td>The Dead Lands</td>\n",
       "      <td>Hongi, a Maori chieftain’s teenage son, must a...</td>\n",
       "      <td>10.001517</td>\n",
       "    </tr>\n",
       "    <tr>\n",
       "      <th>3012</th>\n",
       "      <td>All About My Mother</td>\n",
       "      <td>A single mother in Madrid sees her only son di...</td>\n",
       "      <td>10.000915</td>\n",
       "    </tr>\n",
       "    <tr>\n",
       "      <th>3013</th>\n",
       "      <td>Project X</td>\n",
       "      <td>A young inductee into the military is given th...</td>\n",
       "      <td>10.000775</td>\n",
       "    </tr>\n",
       "    <tr>\n",
       "      <th>3014</th>\n",
       "      <td>Scream 4</td>\n",
       "      <td>Sidney Prescott, now the author of a self-help...</td>\n",
       "      <td>10.000721</td>\n",
       "    </tr>\n",
       "    <tr>\n",
       "      <th>3015</th>\n",
       "      <td>Nine Lives</td>\n",
       "      <td>A stuffy businessman finds himself trapped ins...</td>\n",
       "      <td>10.000208</td>\n",
       "    </tr>\n",
       "  </tbody>\n",
       "</table>\n",
       "<p>3016 rows × 3 columns</p>\n",
       "</div>"
      ],
      "text/plain": [
       "                     title                                           overview  \\\n",
       "0                  Minions  Minions Stuart, Kevin and Bob are recruited by...   \n",
       "1             Wonder Woman  An Amazon princess comes to the world of Man t...   \n",
       "2     Beauty and the Beast  A live-action adaptation of Disney's version o...   \n",
       "3              Baby Driver  After being coerced into working for a crime b...   \n",
       "4               Big Hero 6  The special bond that develops between plus-si...   \n",
       "...                    ...                                                ...   \n",
       "3011        The Dead Lands  Hongi, a Maori chieftain’s teenage son, must a...   \n",
       "3012   All About My Mother  A single mother in Madrid sees her only son di...   \n",
       "3013             Project X  A young inductee into the military is given th...   \n",
       "3014              Scream 4  Sidney Prescott, now the author of a self-help...   \n",
       "3015            Nine Lives  A stuffy businessman finds himself trapped ins...   \n",
       "\n",
       "      popularity  \n",
       "0     547.488298  \n",
       "1     294.337037  \n",
       "2     287.253654  \n",
       "3     228.032744  \n",
       "4     213.849907  \n",
       "...          ...  \n",
       "3011   10.001517  \n",
       "3012   10.000915  \n",
       "3013   10.000775  \n",
       "3014   10.000721  \n",
       "3015   10.000208  \n",
       "\n",
       "[3016 rows x 3 columns]"
      ]
     },
     "execution_count": 16,
     "metadata": {},
     "output_type": "execute_result"
    }
   ],
   "source": [
    "recomendacion_filtrado"
   ]
  },
  {
   "attachments": {},
   "cell_type": "markdown",
   "metadata": {},
   "source": [
    "IMPORTANTE: Debido a la poca capacidad de Render, tuve que reducir el dataset a 3mil datos."
   ]
  },
  {
   "cell_type": "code",
   "execution_count": 17,
   "metadata": {},
   "outputs": [
    {
     "data": {
      "text/plain": [
       "'The Bad Batch'"
      ]
     },
     "execution_count": 17,
     "metadata": {},
     "output_type": "execute_result"
    }
   ],
   "source": [
    "recomendacion_filtrado['title'][20]"
   ]
  },
  {
   "cell_type": "code",
   "execution_count": 18,
   "metadata": {},
   "outputs": [],
   "source": [
    "\n",
    "def recomendar_peliculas(titulo_pelicula):\n",
    "    df = pd.DataFrame(recomendacion_filtrado)\n",
    "    num_similares = 5\n",
    "    \n",
    "    # Filtro el df por el título de la peli solicitada\n",
    "    pelicula_filtro = df[df[\"title\"] == titulo_pelicula]\n",
    "    \n",
    "    if pelicula_filtro.empty:\n",
    "        print(\"No se encontró ninguna película con ese título.\")\n",
    "        return []\n",
    "    \n",
    "    # Obtengo el índice de la película filtrada\n",
    "    target_movie_index = pelicula_filtro.index[0]\n",
    "\n",
    "    # Creo las representaciones numéricas de las descripciones de películas\n",
    "    vectorizer = TfidfVectorizer()\n",
    "    tfidf_matrix = vectorizer.fit_transform(df[\"overview\"])\n",
    "\n",
    "    # Calculo la similitud del coseno entre las descripciones de películas\n",
    "    similarity_matrix = cosine_similarity(tfidf_matrix, tfidf_matrix)\n",
    "\n",
    "    # Obtengo los índices de las películas más similares\n",
    "    similar_movies_indices = similarity_matrix[target_movie_index].argsort()[::-1][1:num_similares+1]\n",
    "\n",
    "    # Obtengo las películas similares del df\n",
    "    peliculas_similares = df.iloc[similar_movies_indices][\"title\"].tolist()\n",
    "    \n",
    "    return f\" Las peliculas similares para el titulo '{titulo_pelicula.capitalize()}' son:  {peliculas_similares}.\"\n"
   ]
  },
  {
   "cell_type": "code",
   "execution_count": 19,
   "metadata": {},
   "outputs": [
    {
     "data": {
      "text/plain": [
       "\" Las peliculas similares para el titulo 'The bad batch' son:  ['Turbo Kid', 'Beyond the Reach', 'Bone Tomahawk', 'Stranger Than Fiction', 'Mine'].\""
      ]
     },
     "execution_count": 19,
     "metadata": {},
     "output_type": "execute_result"
    }
   ],
   "source": [
    "recomendar_peliculas('The Bad Batch')"
   ]
  },
  {
   "cell_type": "code",
   "execution_count": 11,
   "metadata": {},
   "outputs": [
    {
     "name": "stdout",
     "output_type": "stream",
     "text": [
      "Películas similares a Minions\n",
      "-  Despicable Me 2\n",
      "-  Banana\n",
      "-  Stuart Little 3: Call of the Wild\n",
      "-  Stuart Little 2\n",
      "-  Mary of Scotland\n"
     ]
    }
   ],
   "source": [
    "#pruebo si me funciona con la primer pelicula de la lista\n",
    "data = recomendacion_filtrado\n",
    "df = pd.DataFrame(data)\n",
    "\n",
    "# Creoar representaciones numéricas de las descripciones de películas\n",
    "vectorizer = TfidfVectorizer()\n",
    "tfidf_matrix = vectorizer.fit_transform(df[\"overview\"])\n",
    "\n",
    "# Calculo la similitud del coseno entre las descripciones de películas\n",
    "similarity_matrix = cosine_similarity(tfidf_matrix, tfidf_matrix)\n",
    "\n",
    "# Obtengo las películas más similares a la pelicula (primer película en la lista)\n",
    "target_movie_index = 0\n",
    "similar_movies_indices = similarity_matrix[target_movie_index].argsort()[::-1][1:6]\n",
    "\n",
    "\n",
    "print(\"Películas similares a\", df.iloc[target_movie_index][\"title\"])\n",
    "for index in similar_movies_indices:\n",
    "    print(\"- \", df.iloc[index][\"title\"])\n"
   ]
  }
 ],
 "metadata": {
  "kernelspec": {
   "display_name": "PI",
   "language": "python",
   "name": "python3"
  },
  "language_info": {
   "codemirror_mode": {
    "name": "ipython",
    "version": 3
   },
   "file_extension": ".py",
   "mimetype": "text/x-python",
   "name": "python",
   "nbconvert_exporter": "python",
   "pygments_lexer": "ipython3",
   "version": "3.11.0"
  },
  "orig_nbformat": 4
 },
 "nbformat": 4,
 "nbformat_minor": 2
}
