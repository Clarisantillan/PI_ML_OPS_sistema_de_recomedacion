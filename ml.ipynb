{
 "cells": [
  {
   "cell_type": "code",
   "execution_count": 1,
   "metadata": {},
   "outputs": [],
   "source": [
    "import pandas as pd\n",
    "from sklearn.feature_extraction.text import TfidfVectorizer\n",
    "from sklearn.metrics.pairwise import cosine_similarity\n"
   ]
  },
  {
   "cell_type": "code",
   "execution_count": 32,
   "metadata": {},
   "outputs": [
    {
     "name": "stderr",
     "output_type": "stream",
     "text": [
      "C:\\Users\\clari\\AppData\\Local\\Temp\\ipykernel_4092\\3492386156.py:1: DtypeWarning: Columns (6) have mixed types. Specify dtype option on import or set low_memory=False.\n",
      "  movies = pd.read_csv('./ETL/movies_limpio.csv')\n"
     ]
    },
    {
     "data": {
      "text/plain": [
       "(45291, 23)"
      ]
     },
     "execution_count": 32,
     "metadata": {},
     "output_type": "execute_result"
    }
   ],
   "source": [
    "movies = pd.read_csv('./ETL/movies_limpio.csv')\n",
    "movies.shape"
   ]
  },
  {
   "cell_type": "code",
   "execution_count": 33,
   "metadata": {},
   "outputs": [],
   "source": [
    "recomendacion = movies[['title', 'overview', 'popularity']]  # elijo las columnas relevantes para el modelo\n",
    "recomendacion = recomendacion.dropna()  # elimino las filas que contienen valores nulos\n",
    "\n",
    "# Convierto la columna \"popularity\" a tipo float\n",
    "recomendacion['popularity'] = recomendacion['popularity'].astype(float)\n",
    "\n",
    "# Ordeno por popularidad en orden descendente \n",
    "# (ascending=False=547.488298 popularity alto)  y  (ascending=True=213.849907 popularity bajo)\n",
    "recomendacion = recomendacion.sort_values(by='popularity', ascending=False)\n",
    "recomendacion = recomendacion[recomendacion['popularity'] != 0]#saco los que son valor 0\n",
    "\n",
    "#filtro para achicar la muestra ya que ocupa mucho espacio al crear la matriz. \n",
    "# Dejando asi las peliculas con popularity > 4 (asi el usuario recibe una recomendacion de calidad)\n",
    "recomendacion_filtrado = recomendacion[recomendacion['popularity'] > 4]\n",
    "#print(recomendacion_filtrado)\n",
    "\n",
    "#reseteo el index para que al consultar una pelicula el index coincida con la totalidad de las peliculas filtradas\n",
    "recomendacion_filtrado=recomendacion_filtrado.reset_index()\n",
    "\n",
    "# Guardar en un archivo CSV\n",
    "#recomendacion_filtrado.to_csv('peliculas_filtradas.csv', index=False)\n",
    "\n",
    "\n"
   ]
  },
  {
   "cell_type": "code",
   "execution_count": 34,
   "metadata": {},
   "outputs": [
    {
     "data": {
      "text/plain": [
       "(10778, 4)"
      ]
     },
     "execution_count": 34,
     "metadata": {},
     "output_type": "execute_result"
    }
   ],
   "source": [
    "recomendacion_filtrado.shape"
   ]
  },
  {
   "cell_type": "code",
   "execution_count": null,
   "metadata": {},
   "outputs": [],
   "source": [
    "recomendacion_filtrado.to_csv('peliculas_filtradas.csv', index=False)"
   ]
  },
  {
   "cell_type": "code",
   "execution_count": 39,
   "metadata": {},
   "outputs": [
    {
     "data": {
      "text/plain": [
       "'The Bad Batch'"
      ]
     },
     "execution_count": 39,
     "metadata": {},
     "output_type": "execute_result"
    }
   ],
   "source": [
    "recomendacion_filtrado['title'][20]"
   ]
  },
  {
   "cell_type": "code",
   "execution_count": 45,
   "metadata": {},
   "outputs": [],
   "source": [
    "\n",
    "def recomendar_peliculas(titulo_pelicula):\n",
    "    df = pd.DataFrame(recomendacion_filtrado)\n",
    "    num_similares = 5\n",
    "    \n",
    "    # Filtro el df por el título de la peli solicitada\n",
    "    pelicula_filtro = df[df[\"title\"] == titulo_pelicula]\n",
    "    \n",
    "    if pelicula_filtro.empty:\n",
    "        print(\"No se encontró ninguna película con ese título.\")\n",
    "        return []\n",
    "    \n",
    "    # Obtengo el índice de la película filtrada\n",
    "    target_movie_index = pelicula_filtro.index[0]\n",
    "\n",
    "    # Creo las representaciones numéricas de las descripciones de películas\n",
    "    vectorizer = TfidfVectorizer()\n",
    "    tfidf_matrix = vectorizer.fit_transform(df[\"overview\"])\n",
    "\n",
    "    # Calculo la similitud del coseno entre las descripciones de películas\n",
    "    similarity_matrix = cosine_similarity(tfidf_matrix, tfidf_matrix)\n",
    "\n",
    "    # Obtengo los índices de las películas más similares\n",
    "    similar_movies_indices = similarity_matrix[target_movie_index].argsort()[::-1][1:num_similares+1]\n",
    "\n",
    "    # Obtengo las películas similares del df\n",
    "    peliculas_similares = df.iloc[similar_movies_indices][\"title\"].tolist()\n",
    "    \n",
    "    return f\" Las peliculas similares para el titulo '{titulo_pelicula.capitalize()}' son:  {peliculas_similares}.\"\n"
   ]
  },
  {
   "cell_type": "code",
   "execution_count": 46,
   "metadata": {},
   "outputs": [
    {
     "data": {
      "text/plain": [
       "\" Las peliculas similares para el titulo 'The bad batch' son:  ['The Texas Chainsaw Massacre 2', 'A Boy and His Dog', 'Turbo Kid', 'Humpday', 'Beyond the Reach'].\""
      ]
     },
     "execution_count": 46,
     "metadata": {},
     "output_type": "execute_result"
    }
   ],
   "source": [
    "recomendar_peliculas('The Bad Batch')"
   ]
  },
  {
   "cell_type": "code",
   "execution_count": 11,
   "metadata": {},
   "outputs": [
    {
     "name": "stdout",
     "output_type": "stream",
     "text": [
      "Películas similares a Minions\n",
      "-  Despicable Me 2\n",
      "-  Banana\n",
      "-  Stuart Little 3: Call of the Wild\n",
      "-  Stuart Little 2\n",
      "-  Mary of Scotland\n"
     ]
    }
   ],
   "source": [
    "#pruebo si me funciona con la primer pelicula de la lista\n",
    "data = recomendacion_filtrado\n",
    "df = pd.DataFrame(data)\n",
    "\n",
    "# Creoar representaciones numéricas de las descripciones de películas\n",
    "vectorizer = TfidfVectorizer()\n",
    "tfidf_matrix = vectorizer.fit_transform(df[\"overview\"])\n",
    "\n",
    "# Calculo la similitud del coseno entre las descripciones de películas\n",
    "similarity_matrix = cosine_similarity(tfidf_matrix, tfidf_matrix)\n",
    "\n",
    "# Obtengo las películas más similares a la pelicula (primer película en la lista)\n",
    "target_movie_index = 0\n",
    "similar_movies_indices = similarity_matrix[target_movie_index].argsort()[::-1][1:6]\n",
    "\n",
    "\n",
    "print(\"Películas similares a\", df.iloc[target_movie_index][\"title\"])\n",
    "for index in similar_movies_indices:\n",
    "    print(\"- \", df.iloc[index][\"title\"])\n"
   ]
  }
 ],
 "metadata": {
  "kernelspec": {
   "display_name": "PI",
   "language": "python",
   "name": "python3"
  },
  "language_info": {
   "codemirror_mode": {
    "name": "ipython",
    "version": 3
   },
   "file_extension": ".py",
   "mimetype": "text/x-python",
   "name": "python",
   "nbconvert_exporter": "python",
   "pygments_lexer": "ipython3",
   "version": "3.11.0"
  },
  "orig_nbformat": 4
 },
 "nbformat": 4,
 "nbformat_minor": 2
}
